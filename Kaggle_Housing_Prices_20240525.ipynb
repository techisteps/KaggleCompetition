{
  "nbformat": 4,
  "nbformat_minor": 0,
  "metadata": {
    "colab": {
      "provenance": [],
      "authorship_tag": "ABX9TyPp4/vRJAwVzJNiRmDs0Xwn",
      "include_colab_link": true
    },
    "kernelspec": {
      "name": "python3",
      "display_name": "Python 3"
    },
    "language_info": {
      "name": "python"
    }
  },
  "cells": [
    {
      "cell_type": "markdown",
      "metadata": {
        "id": "view-in-github",
        "colab_type": "text"
      },
      "source": [
        "<a href=\"https://colab.research.google.com/github/techisteps/KaggleCompetition/blob/main/Kaggle_Housing_Prices_20240525.ipynb\" target=\"_parent\"><img src=\"https://colab.research.google.com/assets/colab-badge.svg\" alt=\"Open In Colab\"/></a>"
      ]
    },
    {
      "cell_type": "code",
      "execution_count": 1,
      "metadata": {
        "colab": {
          "base_uri": "https://localhost:8080/",
          "height": 264
        },
        "id": "F42B9LsEgcPB",
        "outputId": "9e0968c4-b305-404e-d832-22efa3e2a49f"
      },
      "outputs": [
        {
          "output_type": "display_data",
          "data": {
            "text/plain": [
              "<IPython.core.display.HTML object>"
            ],
            "text/html": [
              "\n",
              "     <input type=\"file\" id=\"files-3397af13-a0f9-4f96-868c-bb404f51bc51\" name=\"files[]\"  disabled\n",
              "        style=\"border:none\" />\n",
              "     <output id=\"result-3397af13-a0f9-4f96-868c-bb404f51bc51\">\n",
              "      Upload widget is only available when the cell has been executed in the\n",
              "      current browser session. Please rerun this cell to enable.\n",
              "      </output>\n",
              "      <script>// Copyright 2017 Google LLC\n",
              "//\n",
              "// Licensed under the Apache License, Version 2.0 (the \"License\");\n",
              "// you may not use this file except in compliance with the License.\n",
              "// You may obtain a copy of the License at\n",
              "//\n",
              "//      http://www.apache.org/licenses/LICENSE-2.0\n",
              "//\n",
              "// Unless required by applicable law or agreed to in writing, software\n",
              "// distributed under the License is distributed on an \"AS IS\" BASIS,\n",
              "// WITHOUT WARRANTIES OR CONDITIONS OF ANY KIND, either express or implied.\n",
              "// See the License for the specific language governing permissions and\n",
              "// limitations under the License.\n",
              "\n",
              "/**\n",
              " * @fileoverview Helpers for google.colab Python module.\n",
              " */\n",
              "(function(scope) {\n",
              "function span(text, styleAttributes = {}) {\n",
              "  const element = document.createElement('span');\n",
              "  element.textContent = text;\n",
              "  for (const key of Object.keys(styleAttributes)) {\n",
              "    element.style[key] = styleAttributes[key];\n",
              "  }\n",
              "  return element;\n",
              "}\n",
              "\n",
              "// Max number of bytes which will be uploaded at a time.\n",
              "const MAX_PAYLOAD_SIZE = 100 * 1024;\n",
              "\n",
              "function _uploadFiles(inputId, outputId) {\n",
              "  const steps = uploadFilesStep(inputId, outputId);\n",
              "  const outputElement = document.getElementById(outputId);\n",
              "  // Cache steps on the outputElement to make it available for the next call\n",
              "  // to uploadFilesContinue from Python.\n",
              "  outputElement.steps = steps;\n",
              "\n",
              "  return _uploadFilesContinue(outputId);\n",
              "}\n",
              "\n",
              "// This is roughly an async generator (not supported in the browser yet),\n",
              "// where there are multiple asynchronous steps and the Python side is going\n",
              "// to poll for completion of each step.\n",
              "// This uses a Promise to block the python side on completion of each step,\n",
              "// then passes the result of the previous step as the input to the next step.\n",
              "function _uploadFilesContinue(outputId) {\n",
              "  const outputElement = document.getElementById(outputId);\n",
              "  const steps = outputElement.steps;\n",
              "\n",
              "  const next = steps.next(outputElement.lastPromiseValue);\n",
              "  return Promise.resolve(next.value.promise).then((value) => {\n",
              "    // Cache the last promise value to make it available to the next\n",
              "    // step of the generator.\n",
              "    outputElement.lastPromiseValue = value;\n",
              "    return next.value.response;\n",
              "  });\n",
              "}\n",
              "\n",
              "/**\n",
              " * Generator function which is called between each async step of the upload\n",
              " * process.\n",
              " * @param {string} inputId Element ID of the input file picker element.\n",
              " * @param {string} outputId Element ID of the output display.\n",
              " * @return {!Iterable<!Object>} Iterable of next steps.\n",
              " */\n",
              "function* uploadFilesStep(inputId, outputId) {\n",
              "  const inputElement = document.getElementById(inputId);\n",
              "  inputElement.disabled = false;\n",
              "\n",
              "  const outputElement = document.getElementById(outputId);\n",
              "  outputElement.innerHTML = '';\n",
              "\n",
              "  const pickedPromise = new Promise((resolve) => {\n",
              "    inputElement.addEventListener('change', (e) => {\n",
              "      resolve(e.target.files);\n",
              "    });\n",
              "  });\n",
              "\n",
              "  const cancel = document.createElement('button');\n",
              "  inputElement.parentElement.appendChild(cancel);\n",
              "  cancel.textContent = 'Cancel upload';\n",
              "  const cancelPromise = new Promise((resolve) => {\n",
              "    cancel.onclick = () => {\n",
              "      resolve(null);\n",
              "    };\n",
              "  });\n",
              "\n",
              "  // Wait for the user to pick the files.\n",
              "  const files = yield {\n",
              "    promise: Promise.race([pickedPromise, cancelPromise]),\n",
              "    response: {\n",
              "      action: 'starting',\n",
              "    }\n",
              "  };\n",
              "\n",
              "  cancel.remove();\n",
              "\n",
              "  // Disable the input element since further picks are not allowed.\n",
              "  inputElement.disabled = true;\n",
              "\n",
              "  if (!files) {\n",
              "    return {\n",
              "      response: {\n",
              "        action: 'complete',\n",
              "      }\n",
              "    };\n",
              "  }\n",
              "\n",
              "  for (const file of files) {\n",
              "    const li = document.createElement('li');\n",
              "    li.append(span(file.name, {fontWeight: 'bold'}));\n",
              "    li.append(span(\n",
              "        `(${file.type || 'n/a'}) - ${file.size} bytes, ` +\n",
              "        `last modified: ${\n",
              "            file.lastModifiedDate ? file.lastModifiedDate.toLocaleDateString() :\n",
              "                                    'n/a'} - `));\n",
              "    const percent = span('0% done');\n",
              "    li.appendChild(percent);\n",
              "\n",
              "    outputElement.appendChild(li);\n",
              "\n",
              "    const fileDataPromise = new Promise((resolve) => {\n",
              "      const reader = new FileReader();\n",
              "      reader.onload = (e) => {\n",
              "        resolve(e.target.result);\n",
              "      };\n",
              "      reader.readAsArrayBuffer(file);\n",
              "    });\n",
              "    // Wait for the data to be ready.\n",
              "    let fileData = yield {\n",
              "      promise: fileDataPromise,\n",
              "      response: {\n",
              "        action: 'continue',\n",
              "      }\n",
              "    };\n",
              "\n",
              "    // Use a chunked sending to avoid message size limits. See b/62115660.\n",
              "    let position = 0;\n",
              "    do {\n",
              "      const length = Math.min(fileData.byteLength - position, MAX_PAYLOAD_SIZE);\n",
              "      const chunk = new Uint8Array(fileData, position, length);\n",
              "      position += length;\n",
              "\n",
              "      const base64 = btoa(String.fromCharCode.apply(null, chunk));\n",
              "      yield {\n",
              "        response: {\n",
              "          action: 'append',\n",
              "          file: file.name,\n",
              "          data: base64,\n",
              "        },\n",
              "      };\n",
              "\n",
              "      let percentDone = fileData.byteLength === 0 ?\n",
              "          100 :\n",
              "          Math.round((position / fileData.byteLength) * 100);\n",
              "      percent.textContent = `${percentDone}% done`;\n",
              "\n",
              "    } while (position < fileData.byteLength);\n",
              "  }\n",
              "\n",
              "  // All done.\n",
              "  yield {\n",
              "    response: {\n",
              "      action: 'complete',\n",
              "    }\n",
              "  };\n",
              "}\n",
              "\n",
              "scope.google = scope.google || {};\n",
              "scope.google.colab = scope.google.colab || {};\n",
              "scope.google.colab._files = {\n",
              "  _uploadFiles,\n",
              "  _uploadFilesContinue,\n",
              "};\n",
              "})(self);\n",
              "</script> "
            ]
          },
          "metadata": {}
        },
        {
          "output_type": "stream",
          "name": "stdout",
          "text": [
            "Saved kaggle.json to /content/kaggle.json\n",
            "Downloading home-data-for-ml-course.zip to /content\n",
            "100% 386k/386k [00:00<00:00, 1.04MB/s]\n",
            "100% 386k/386k [00:00<00:00, 1.03MB/s]\n",
            "Archive:  /content/home-data-for-ml-course.zip\n",
            "  inflating: data_description.txt    \n",
            "  inflating: sample_submission.csv   \n",
            "  inflating: sample_submission.csv.gz  \n",
            "  inflating: test.csv                \n",
            "  inflating: test.csv.gz             \n",
            "  inflating: train.csv               \n",
            "  inflating: train.csv.gz            \n"
          ]
        }
      ],
      "source": [
        "# Upload Kaggle token file\n",
        "from google.colab import files\n",
        "files.upload_file(filename = \"kaggle.json\")\n",
        "\n",
        "# Setup Kaggle environment\n",
        "!mkdir ~/.kaggle\n",
        "!cp /content/kaggle.json ~/.kaggle/ && chmod 600 /root/.kaggle/kaggle.json\n",
        "!rm /content/kaggle.json\n",
        "\n",
        "\n",
        "# Download and extract project data\n",
        "!kaggle competitions download -c home-data-for-ml-course\n",
        "!unzip /content/home-data-for-ml-course.zip"
      ]
    },
    {
      "cell_type": "markdown",
      "source": [
        "# Analysis\n",
        "You can now start your analysis"
      ],
      "metadata": {
        "id": "i8dwbfAYl5He"
      }
    },
    {
      "cell_type": "code",
      "source": [
        "import pandas as pd\n",
        "from sklearn.ensemble import RandomForestRegressor\n",
        "from sklearn.metrics import mean_absolute_error\n",
        "from sklearn.model_selection import train_test_split\n",
        "from sklearn.compose import ColumnTransformer\n",
        "from sklearn.pipeline import Pipeline\n",
        "from sklearn.impute import SimpleImputer\n",
        "from sklearn.preprocessing import StandardScaler, OneHotEncoder, Normalizer, normalize\n",
        "\n",
        "file_train = \"/content/train.csv\"\n",
        "file_test = \"/content/test.csv\"\n",
        "file_sample_submission = \"/content/sample_submission.csv\"\n",
        "file_data_disc = \"/content/data_description.txt\"\n",
        "\n",
        "# train_filedata = pd.read_csv(file_train, index_col=\"Id\")\n",
        "# test_filedata = pd.read_csv(file_test, index_col=\"Id\")\n",
        "train_filedata = pd.read_csv(file_train)\n",
        "test_data = pd.read_csv(file_test)\n",
        "\n",
        "train_data = train_filedata.copy()\n",
        "target_y = train_data['SalePrice']\n",
        "train_data.drop('SalePrice', axis=1, inplace=True)\n",
        "\n",
        "# test_data = test_filedata.copy()\n",
        "\n",
        "# train_data.drop('SalePrice', axis=1, inplace=True)\n",
        "# train_data = train_data.drop('SalePrice', axis=1)\n",
        "\n",
        "features = train_data.columns.to_list()\n",
        "\n",
        "features_obj = train_data.select_dtypes(include = ['O', 'object']).columns\n",
        "features_num = train_data.select_dtypes(include = ['float64', 'int64']).columns"
      ],
      "metadata": {
        "id": "uZ_6zBmOnSG7"
      },
      "execution_count": 65,
      "outputs": []
    },
    {
      "cell_type": "markdown",
      "source": [
        "# EDA and Feature Engineering"
      ],
      "metadata": {
        "id": "ztehJQKt7Q1p"
      }
    },
    {
      "cell_type": "code",
      "source": [
        "import seaborn as sns\n",
        "# tmp = train_data[['SalePrice', 'BsmtFullBath', 'BsmtHalfBath', 'FullBath', 'HalfBath']]\n",
        "tmp = train_filedata[['SalePrice','MasVnrArea', 'BsmtFinSF1', 'BsmtFinSF2', 'BsmtUnfSF', 'TotalBsmtSF', '1stFlrSF', '2ndFlrSF', 'LowQualFinSF', 'GrLivArea']]\n",
        "# sns.scatterplot(x=\"SalePrice\", y=col, data=train_data[[col, 'SalePrice']]);\n",
        "sns.heatmap(tmp.corr(), annot=True, cmap='coolwarm');\n",
        "??sns.heatmap"
      ],
      "metadata": {
        "colab": {
          "base_uri": "https://localhost:8080/",
          "height": 517
        },
        "id": "fUrPCC2bXzgZ",
        "outputId": "54081e97-bfe3-411c-a073-b966e6e9c5fd"
      },
      "execution_count": null,
      "outputs": [
        {
          "output_type": "display_data",
          "data": {
            "text/plain": [
              "<Figure size 640x480 with 2 Axes>"
            ],
            "image/png": "[encoded data removed]"
          },
          "metadata": {}
        }
      ]
    },
    {
      "cell_type": "code",
      "source": [
        "# display.max_columns = 100\n",
        "# t = features_num\n",
        "# 'BsmtFullBath', 'BsmtHalfBath', 'FullBath', 'HalfBath',\n",
        "# 'MasVnrArea', 'BsmtFinSF1', 'BsmtFinSF2', 'BsmtUnfSF', 'TotalBsmtSF', '1stFlrSF', '2ndFlrSF', 'LowQualFinSF', 'GrLivArea'\n",
        "\n",
        "# Index(['Id', 'MSSubClass', 'LotFrontage', 'LotArea', 'OverallQual', 'OverallCond', 'YearBuilt', 'YearRemodAdd',   'BedroomAbvGr', 'KitchenAbvGr', 'TotRmsAbvGrd',\n",
        "# 'Fireplaces', 'GarageYrBlt', 'GarageCars', 'GarageArea', 'WoodDeckSF',\n",
        "#        'OpenPorchSF', 'EnclosedPorch', '3SsnPorch', 'ScreenPorch', 'PoolArea', 'MiscVal', 'MoSold', 'YrSold', 'SalePrice'], dtype='object')\n",
        "# train_data[['MSSubClass', 'LotFrontage', 'LotArea', 'OverallQual','SalePrice']].corr()\n",
        "# target_y.corr(train_data['LotArea'])\n",
        "train_data = train_data.drop(columns= ['MoSold', 'YrSold','3SsnPorch'], axis=1)"
      ],
      "metadata": {
        "id": "yaLwb5MMj2Ev"
      },
      "execution_count": null,
      "outputs": []
    },
    {
      "cell_type": "code",
      "source": [
        "sns.scatterplot(x=\"SalePrice\", y=\"ALLBATHwLot\", data=tmp);"
      ],
      "metadata": {
        "id": "1hrPmykoCGew"
      },
      "execution_count": null,
      "outputs": []
    },
    {
      "cell_type": "code",
      "source": [
        "\n",
        "import seaborn as sns\n",
        "nor = Normalizer()\n",
        "# nor.fit(train_data)\n",
        "# tmp = train_data['SalePrice']\n",
        "train_data['ALLBATH'] = train_data['BsmtFullBath'] + train_data['BsmtHalfBath'] + train_data['FullBath'] + train_data['HalfBath']\n",
        "train_data['ALLBATHwLot'] = train_data['LotArea'] / (train_data['BsmtFullBath'] + train_data['BsmtHalfBath'] + train_data['FullBath'] + train_data['HalfBath'])\n",
        "train_data['ALLFULLBATH'] = train_data['BsmtFullBath'] + train_data['FullBath']\n",
        "train_data['ALLHALFBATH'] = train_data['BsmtHalfBath'] + train_data['HalfBath']\n",
        "# tmp = train_data[['SalePrice', 'BsmtFullBath', 'BsmtHalfBath', 'FullBath', 'HalfBath']]\n",
        "tmp = train_data[['SalePrice', 'ALLBATH', 'ALLFULLBATH', 'ALLHALFBATH','ALLBATHwLot']]\n",
        "# tmp = pd.DataFrame(nor.transform(tmp), columns = tmp.columns)\n",
        "tmp.describe()\n",
        "# sns.pairplot(tmp, hue=\"BsmtFullBath\")\n",
        "sns.scatterplot(x=\"SalePrice\", y=\"ALLBATHwLot\", data=tmp);\n",
        "# sns.scatterplot(x=\"SalePrice\", y=\"1stFlrSF\", hue=\"LotArea\", size=\"LotFrontage\", data=tmp);\n",
        "# ??sns.scatterplot\n",
        "# tmp = train_data[['SalePrice', 'BsmtUnfSF', 'LotFrontage', 'LotArea', 'OverallQual', 'OverallCond', 'YearBuilt']]\n",
        "# sns.pairplot(tmp, hue=\"LotArea\")\n",
        "# ??sns.pairplot\n",
        "# sns.boxplot(x=\"Alley\", y=\"SalePrice\", hue=\"LotFrontage\", palette='YlGnBu', data=train_data);"
      ],
      "metadata": {
        "id": "FPif1b8S9zox"
      },
      "execution_count": null,
      "outputs": []
    },
    {
      "cell_type": "code",
      "source": [
        "import seaborn as sns\n",
        "def plotCorr(col):\n",
        "  print(train_data['SalePrice'].corr(train_data[col]))\n",
        "  sns.scatterplot(x=\"SalePrice\", y=col, data=train_data[[col, 'SalePrice']]);\n",
        "\n",
        "plotCorr(\"OpenPorchSF\")"
      ],
      "metadata": {
        "id": "tJmqDNWzn-lw"
      },
      "execution_count": null,
      "outputs": []
    },
    {
      "cell_type": "code",
      "source": [
        "# Analysis\n",
        "# train_data['SFT'] = train_data['1stFlrSF'] + train_data['2ndFlrSF'] + train_data['LowQualFinSF'] + train_data['GrLivArea']\n",
        "# tmp = train_data[['SalePrice', 'SFT']]\n",
        "# tmp.describe()\n",
        "# sns.scatterplot(x=\"SalePrice\", y=\"SFT\", data=tmp);\n",
        "\n",
        "# Action\n",
        "train_data['SFT'] = train_data['1stFlrSF'] + train_data['2ndFlrSF'] + train_data['LowQualFinSF'] + train_data['GrLivArea']\n",
        "train_data.drop(columns=['SalePrice','1stFlrSF','2ndFlrSF','LowQualFinSF','GrLivArea'], axis=1, inplace=True)\n",
        "\n",
        "test_data['SFT'] = test_data['1stFlrSF'] + test_data['2ndFlrSF'] + test_data['LowQualFinSF'] + test_data['GrLivArea']\n",
        "test_data.drop(columns=['1stFlrSF','2ndFlrSF','LowQualFinSF','GrLivArea'], axis=1, inplace=True)\n",
        "\n",
        "# train_data.drop('SFT', axis=1, inplace=True)\n",
        "# test_data.drop('SFT', axis=1, inplace=True)"
      ],
      "metadata": {
        "id": "GXgjrmaRNTrV"
      },
      "execution_count": null,
      "outputs": []
    },
    {
      "cell_type": "code",
      "source": [
        "# train_data_imp.select_dtypes(include = ['O']).columns\n",
        "# train_data_imp.MSZoning.unique()\n",
        "\n",
        "# !pip install ydata-profiling\n",
        "\n",
        "from ydata_profiling import ProfileReport\n",
        "tmp = train_data[['MSZoning', 'Street', 'Alley', 'LotShape', 'LandContour', 'Utilities','LotConfig', 'LandSlope', 'Neighborhood', 'Condition1', 'Condition2']]\n",
        "profile = ProfileReport(tmp, title=\"Profiling Report\")\n",
        "# # profile.to_widgets()\n",
        "# # profile.to_notebook_iframe()\n",
        "profile.to_file(\"your_report.html\")\n"
      ],
      "metadata": {
        "id": "SUMII4QVi5yQ"
      },
      "execution_count": null,
      "outputs": []
    },
    {
      "cell_type": "code",
      "source": [
        "train_data[features_obj]\n",
        "# train_data.MSSubClass.unique()\n",
        "\n",
        "train_data[\"MSSubClassTMP\"] = train_data.MSSubClass.apply(lambda x: str(x))\n",
        "train_data.drop(columns=[\"MSSubClass\"], inplace=True)\n",
        "train_data.rename(columns={\"MSSubClassTMP\": \"MSSubClass\"}, inplace=True)\n",
        "train_data[[\"MSSubClass\"]].info()"
      ],
      "metadata": {
        "colab": {
          "base_uri": "https://localhost:8080/"
        },
        "id": "dblUCi-DLDbX",
        "outputId": "ade13355-c996-44ff-c1ce-b183229dc845"
      },
      "execution_count": null,
      "outputs": [
        {
          "output_type": "stream",
          "name": "stdout",
          "text": [
            "<class 'pandas.core.frame.DataFrame'>\n",
            "Index: 1460 entries, 1 to 1460\n",
            "Data columns (total 1 columns):\n",
            " #   Column      Non-Null Count  Dtype \n",
            "---  ------      --------------  ----- \n",
            " 0   MSSubClass  1460 non-null   object\n",
            "dtypes: object(1)\n",
            "memory usage: 22.8+ KB\n"
          ]
        }
      ]
    },
    {
      "cell_type": "code",
      "source": [
        "train_data.OverallQual.unique()\n",
        "\n",
        "train_data[\"OverallQualTMP\"] = train_data.OverallQual.apply(lambda x: str(x))\n",
        "train_data.drop(columns=[\"OverallQual\"], inplace=True)\n",
        "train_data.rename(columns={\"OverallQualTMP\": \"OverallQual\"}, inplace=True)\n",
        "train_data[[\"OverallQual\"]].info()"
      ],
      "metadata": {
        "colab": {
          "base_uri": "https://localhost:8080/"
        },
        "id": "v5WXd-VRBYNP",
        "outputId": "6f35a2ec-4620-4003-9fd3-25bef960ceee"
      },
      "execution_count": null,
      "outputs": [
        {
          "output_type": "stream",
          "name": "stdout",
          "text": [
            "<class 'pandas.core.frame.DataFrame'>\n",
            "Index: 1460 entries, 1 to 1460\n",
            "Data columns (total 1 columns):\n",
            " #   Column       Non-Null Count  Dtype \n",
            "---  ------       --------------  ----- \n",
            " 0   OverallQual  1460 non-null   object\n",
            "dtypes: object(1)\n",
            "memory usage: 22.8+ KB\n"
          ]
        }
      ]
    },
    {
      "cell_type": "code",
      "source": [
        "train_data.OverallCond.unique()\n",
        "\n",
        "train_data[\"OverallCondTMP\"] = train_data.OverallCond.apply(lambda x: str(x))\n",
        "train_data.drop(columns=[\"OverallCond\"], inplace=True)\n",
        "train_data.rename(columns={\"OverallCondTMP\": \"OverallCond\"}, inplace=True)\n",
        "train_data[[\"OverallCond\"]].info()"
      ],
      "metadata": {
        "colab": {
          "base_uri": "https://localhost:8080/"
        },
        "id": "MXpubF8XB5Go",
        "outputId": "881d3678-e209-497a-a601-e11873c25d75"
      },
      "execution_count": null,
      "outputs": [
        {
          "output_type": "stream",
          "name": "stdout",
          "text": [
            "<class 'pandas.core.frame.DataFrame'>\n",
            "Index: 1460 entries, 1 to 1460\n",
            "Data columns (total 1 columns):\n",
            " #   Column       Non-Null Count  Dtype \n",
            "---  ------       --------------  ----- \n",
            " 0   OverallCond  1460 non-null   object\n",
            "dtypes: object(1)\n",
            "memory usage: 22.8+ KB\n"
          ]
        }
      ]
    },
    {
      "cell_type": "markdown",
      "source": [
        "# Imputer null values from numeric columns\n",
        "---"
      ],
      "metadata": {
        "id": "ngCVKc2d7avR"
      }
    },
    {
      "cell_type": "code",
      "source": [
        "train_data['Id'] = 1\n",
        "# test_data['Id'] = 1"
      ],
      "metadata": {
        "id": "ofkmsEaHtqZs"
      },
      "execution_count": 67,
      "outputs": []
    },
    {
      "cell_type": "code",
      "source": [
        "from sklearn.preprocessing import StandardScaler, OneHotEncoder, Normalizer\n",
        "\n",
        "features = train_data.columns.to_list()\n",
        "\n",
        "features_obj = train_data.select_dtypes(include = ['O', 'object']).columns\n",
        "features_num = train_data.select_dtypes(include = ['float64', 'int64']).columns\n",
        "\n",
        "\n",
        "numeric_transformation = Pipeline(\n",
        "    steps=[\n",
        "        (\"imputer\", SimpleImputer(strategy=\"median\")),\n",
        "        (\"scaler\", StandardScaler()),\n",
        "        # (\"normalizer\", Normalizer()),\n",
        "\n",
        "    ]\n",
        ")\n",
        "\n",
        "object_transformation = Pipeline(\n",
        "    steps=[\n",
        "        (\"imputer\", SimpleImputer(strategy=\"constant\", fill_value=\"xxx\")),\n",
        "        (\"encoder\", OneHotEncoder(handle_unknown=\"ignore\", sparse_output=False)),\n",
        "    ]\n",
        ")\n",
        "\n",
        "\n",
        "preprocessor = ColumnTransformer(\n",
        "    transformers=[\n",
        "        (\"nums\", numeric_transformation , features_num),\n",
        "        (\"objs\", object_transformation, features_obj),\n",
        "    ]\n",
        ")\n",
        "\n",
        "\n",
        "preprocessor.fit(train_data)\n",
        "\n",
        "train_data_imp = pd.DataFrame( preprocessor.transform(train_data), columns = preprocessor.get_feature_names_out())\n",
        "test_data_imp = pd.DataFrame( preprocessor.transform(test_data), columns = preprocessor.get_feature_names_out())\n",
        "\n",
        "print(\"Type of train_data_imp is: \", type(train_data_imp))\n",
        "train_data_imp.info()\n",
        "\n",
        "train_data_imp.rename(columns={\"nums__Id\": \"Id\"}, inplace=True)\n",
        "test_data_imp.rename(columns={\"nums__Id\": \"Id\"}, inplace=True)\n"
      ],
      "metadata": {
        "colab": {
          "base_uri": "https://localhost:8080/"
        },
        "id": "O951b1kOehe_",
        "outputId": "d53e5fc7-d601-423e-a7ee-3aac6bcea003"
      },
      "execution_count": 68,
      "outputs": [
        {
          "output_type": "stream",
          "name": "stdout",
          "text": [
            "Type of train_data_imp is:  <class 'pandas.core.frame.DataFrame'>\n",
            "<class 'pandas.core.frame.DataFrame'>\n",
            "RangeIndex: 1460 entries, 0 to 1459\n",
            "Columns: 304 entries, nums__Id to objs__SaleCondition_Partial\n",
            "dtypes: float64(304)\n",
            "memory usage: 3.4 MB\n"
          ]
        }
      ]
    },
    {
      "cell_type": "code",
      "source": [
        "test_data_imp[\"Id\"] = test_data_imp[\"Id\"] + 1\n",
        "# tmp = test_data_imp.astype({\"Id\": \"int32\"})\n",
        "# test_data_imp.tail()"
      ],
      "metadata": {
        "colab": {
          "base_uri": "https://localhost:8080/",
          "height": 256
        },
        "id": "7IAacp1AzOSp",
        "outputId": "c2e8046f-b0cb-4256-98be-d8c95a34ffe7"
      },
      "execution_count": 73,
      "outputs": [
        {
          "output_type": "execute_result",
          "data": {
            "text/plain": [
              "          Id  nums__MSSubClass  nums__LotFrontage  nums__LotArea  \\\n",
              "1454  2915.0          2.438219          -2.219047      -0.859988   \n",
              "1455  2916.0          2.438219          -2.219047      -0.864197   \n",
              "1456  2917.0         -0.872563           4.093359       0.950423   \n",
              "1457  2918.0          0.664586          -0.357114      -0.007600   \n",
              "1458  2919.0          0.073375           0.187842      -0.089180   \n",
              "\n",
              "      nums__OverallQual  nums__OverallCond  nums__YearBuilt  \\\n",
              "1454          -1.518467           1.280685        -0.041991   \n",
              "1455          -1.518467          -0.517200        -0.041991   \n",
              "1456          -0.795151           1.280685        -0.373198   \n",
              "1457          -0.795151          -0.517200         0.686666   \n",
              "1458           0.651479          -0.517200         0.719786   \n",
              "\n",
              "      nums__YearRemodAdd  nums__MasVnrArea  nums__BsmtFinSF1  ...  \\\n",
              "1454           -0.720298         -0.570750         -0.973018  ...   \n",
              "1455           -0.720298         -0.570750         -0.420316  ...   \n",
              "1456            0.539493         -0.570750          1.711535  ...   \n",
              "1457            0.345679         -0.570750         -0.233889  ...   \n",
              "1458            0.442586         -0.050463          0.689474  ...   \n",
              "\n",
              "      objs__SaleType_ConLw  objs__SaleType_New  objs__SaleType_Oth  \\\n",
              "1454                   0.0                 0.0                 0.0   \n",
              "1455                   0.0                 0.0                 0.0   \n",
              "1456                   0.0                 0.0                 0.0   \n",
              "1457                   0.0                 0.0                 0.0   \n",
              "1458                   0.0                 0.0                 0.0   \n",
              "\n",
              "      objs__SaleType_WD  objs__SaleCondition_Abnorml  \\\n",
              "1454                1.0                          0.0   \n",
              "1455                1.0                          1.0   \n",
              "1456                1.0                          1.0   \n",
              "1457                1.0                          0.0   \n",
              "1458                1.0                          0.0   \n",
              "\n",
              "      objs__SaleCondition_AdjLand  objs__SaleCondition_Alloca  \\\n",
              "1454                          0.0                         0.0   \n",
              "1455                          0.0                         0.0   \n",
              "1456                          0.0                         0.0   \n",
              "1457                          0.0                         0.0   \n",
              "1458                          0.0                         0.0   \n",
              "\n",
              "      objs__SaleCondition_Family  objs__SaleCondition_Normal  \\\n",
              "1454                         0.0                         1.0   \n",
              "1455                         0.0                         0.0   \n",
              "1456                         0.0                         0.0   \n",
              "1457                         0.0                         1.0   \n",
              "1458                         0.0                         1.0   \n",
              "\n",
              "      objs__SaleCondition_Partial  \n",
              "1454                          0.0  \n",
              "1455                          0.0  \n",
              "1456                          0.0  \n",
              "1457                          0.0  \n",
              "1458                          0.0  \n",
              "\n",
              "[5 rows x 304 columns]"
            ],
            "text/html": [
              "\n",
              "  <div id=\"df-74c58550-86ed-40d1-bb7a-c79f3018d1f0\" class=\"colab-df-container\">\n",
              "    <div>\n",
              "<style scoped>\n",
              "    .dataframe tbody tr th:only-of-type {\n",
              "        vertical-align: middle;\n",
              "    }\n",
              "\n",
              "    .dataframe tbody tr th {\n",
              "        vertical-align: top;\n",
              "    }\n",
              "\n",
              "    .dataframe thead th {\n",
              "        text-align: right;\n",
              "    }\n",
              "</style>\n",
              "<table border=\"1\" class=\"dataframe\">\n",
              "  <thead>\n",
              "    <tr style=\"text-align: right;\">\n",
              "      <th></th>\n",
              "      <th>Id</th>\n",
              "      <th>nums__MSSubClass</th>\n",
              "      <th>nums__LotFrontage</th>\n",
              "      <th>nums__LotArea</th>\n",
              "      <th>nums__OverallQual</th>\n",
              "      <th>nums__OverallCond</th>\n",
              "      <th>nums__YearBuilt</th>\n",
              "      <th>nums__YearRemodAdd</th>\n",
              "      <th>nums__MasVnrArea</th>\n",
              "      <th>nums__BsmtFinSF1</th>\n",
              "      <th>...</th>\n",
              "      <th>objs__SaleType_ConLw</th>\n",
              "      <th>objs__SaleType_New</th>\n",
              "      <th>objs__SaleType_Oth</th>\n",
              "      <th>objs__SaleType_WD</th>\n",
              "      <th>objs__SaleCondition_Abnorml</th>\n",
              "      <th>objs__SaleCondition_AdjLand</th>\n",
              "      <th>objs__SaleCondition_Alloca</th>\n",
              "      <th>objs__SaleCondition_Family</th>\n",
              "      <th>objs__SaleCondition_Normal</th>\n",
              "      <th>objs__SaleCondition_Partial</th>\n",
              "    </tr>\n",
              "  </thead>\n",
              "  <tbody>\n",
              "    <tr>\n",
              "      <th>1454</th>\n",
              "      <td>2915.0</td>\n",
              "      <td>2.438219</td>\n",
              "      <td>-2.219047</td>\n",
              "      <td>-0.859988</td>\n",
              "      <td>-1.518467</td>\n",
              "      <td>1.280685</td>\n",
              "      <td>-0.041991</td>\n",
              "      <td>-0.720298</td>\n",
              "      <td>-0.570750</td>\n",
              "      <td>-0.973018</td>\n",
              "      <td>...</td>\n",
              "      <td>0.0</td>\n",
              "      <td>0.0</td>\n",
              "      <td>0.0</td>\n",
              "      <td>1.0</td>\n",
              "      <td>0.0</td>\n",
              "      <td>0.0</td>\n",
              "      <td>0.0</td>\n",
              "      <td>0.0</td>\n",
              "      <td>1.0</td>\n",
              "      <td>0.0</td>\n",
              "    </tr>\n",
              "    <tr>\n",
              "      <th>1455</th>\n",
              "      <td>2916.0</td>\n",
              "      <td>2.438219</td>\n",
              "      <td>-2.219047</td>\n",
              "      <td>-0.864197</td>\n",
              "      <td>-1.518467</td>\n",
              "      <td>-0.517200</td>\n",
              "      <td>-0.041991</td>\n",
              "      <td>-0.720298</td>\n",
              "      <td>-0.570750</td>\n",
              "      <td>-0.420316</td>\n",
              "      <td>...</td>\n",
              "      <td>0.0</td>\n",
              "      <td>0.0</td>\n",
              "      <td>0.0</td>\n",
              "      <td>1.0</td>\n",
              "      <td>1.0</td>\n",
              "      <td>0.0</td>\n",
              "      <td>0.0</td>\n",
              "      <td>0.0</td>\n",
              "      <td>0.0</td>\n",
              "      <td>0.0</td>\n",
              "    </tr>\n",
              "    <tr>\n",
              "      <th>1456</th>\n",
              "      <td>2917.0</td>\n",
              "      <td>-0.872563</td>\n",
              "      <td>4.093359</td>\n",
              "      <td>0.950423</td>\n",
              "      <td>-0.795151</td>\n",
              "      <td>1.280685</td>\n",
              "      <td>-0.373198</td>\n",
              "      <td>0.539493</td>\n",
              "      <td>-0.570750</td>\n",
              "      <td>1.711535</td>\n",
              "      <td>...</td>\n",
              "      <td>0.0</td>\n",
              "      <td>0.0</td>\n",
              "      <td>0.0</td>\n",
              "      <td>1.0</td>\n",
              "      <td>1.0</td>\n",
              "      <td>0.0</td>\n",
              "      <td>0.0</td>\n",
              "      <td>0.0</td>\n",
              "      <td>0.0</td>\n",
              "      <td>0.0</td>\n",
              "    </tr>\n",
              "    <tr>\n",
              "      <th>1457</th>\n",
              "      <td>2918.0</td>\n",
              "      <td>0.664586</td>\n",
              "      <td>-0.357114</td>\n",
              "      <td>-0.007600</td>\n",
              "      <td>-0.795151</td>\n",
              "      <td>-0.517200</td>\n",
              "      <td>0.686666</td>\n",
              "      <td>0.345679</td>\n",
              "      <td>-0.570750</td>\n",
              "      <td>-0.233889</td>\n",
              "      <td>...</td>\n",
              "      <td>0.0</td>\n",
              "      <td>0.0</td>\n",
              "      <td>0.0</td>\n",
              "      <td>1.0</td>\n",
              "      <td>0.0</td>\n",
              "      <td>0.0</td>\n",
              "      <td>0.0</td>\n",
              "      <td>0.0</td>\n",
              "      <td>1.0</td>\n",
              "      <td>0.0</td>\n",
              "    </tr>\n",
              "    <tr>\n",
              "      <th>1458</th>\n",
              "      <td>2919.0</td>\n",
              "      <td>0.073375</td>\n",
              "      <td>0.187842</td>\n",
              "      <td>-0.089180</td>\n",
              "      <td>0.651479</td>\n",
              "      <td>-0.517200</td>\n",
              "      <td>0.719786</td>\n",
              "      <td>0.442586</td>\n",
              "      <td>-0.050463</td>\n",
              "      <td>0.689474</td>\n",
              "      <td>...</td>\n",
              "      <td>0.0</td>\n",
              "      <td>0.0</td>\n",
              "      <td>0.0</td>\n",
              "      <td>1.0</td>\n",
              "      <td>0.0</td>\n",
              "      <td>0.0</td>\n",
              "      <td>0.0</td>\n",
              "      <td>0.0</td>\n",
              "      <td>1.0</td>\n",
              "      <td>0.0</td>\n",
              "    </tr>\n",
              "  </tbody>\n",
              "</table>\n",
              "<p>5 rows × 304 columns</p>\n",
              "</div>\n",
              "    <div class=\"colab-df-buttons\">\n",
              "\n",
              "  <div class=\"colab-df-container\">\n",
              "    <button class=\"colab-df-convert\" onclick=\"convertToInteractive('df-74c58550-86ed-40d1-bb7a-c79f3018d1f0')\"\n",
              "            title=\"Convert this dataframe to an interactive table.\"\n",
              "            style=\"display:none;\">\n",
              "\n",
              "  <svg xmlns=\"http://www.w3.org/2000/svg\" height=\"24px\" viewBox=\"0 -960 960 960\">\n",
              "    <path d=\"M120-120v-720h720v720H120Zm60-500h600v-160H180v160Zm220 220h160v-160H400v160Zm0 220h160v-160H400v160ZM180-400h160v-160H180v160Zm440 0h160v-160H620v160ZM180-180h160v-160H180v160Zm440 0h160v-160H620v160Z\"/>\n",
              "  </svg>\n",
              "    </button>\n",
              "\n",
              "  <style>\n",
              "    .colab-df-container {\n",
              "      display:flex;\n",
              "      gap: 12px;\n",
              "    }\n",
              "\n",
              "    .colab-df-convert {\n",
              "      background-color: #E8F0FE;\n",
              "      border: none;\n",
              "      border-radius: 50%;\n",
              "      cursor: pointer;\n",
              "      display: none;\n",
              "      fill: #1967D2;\n",
              "      height: 32px;\n",
              "      padding: 0 0 0 0;\n",
              "      width: 32px;\n",
              "    }\n",
              "\n",
              "    .colab-df-convert:hover {\n",
              "      background-color: #E2EBFA;\n",
              "      box-shadow: 0px 1px 2px rgba(60, 64, 67, 0.3), 0px 1px 3px 1px rgba(60, 64, 67, 0.15);\n",
              "      fill: #174EA6;\n",
              "    }\n",
              "\n",
              "    .colab-df-buttons div {\n",
              "      margin-bottom: 4px;\n",
              "    }\n",
              "\n",
              "    [theme=dark] .colab-df-convert {\n",
              "      background-color: #3B4455;\n",
              "      fill: #D2E3FC;\n",
              "    }\n",
              "\n",
              "    [theme=dark] .colab-df-convert:hover {\n",
              "      background-color: #434B5C;\n",
              "      box-shadow: 0px 1px 3px 1px rgba(0, 0, 0, 0.15);\n",
              "      filter: drop-shadow(0px 1px 2px rgba(0, 0, 0, 0.3));\n",
              "      fill: #FFFFFF;\n",
              "    }\n",
              "  </style>\n",
              "\n",
              "    <script>\n",
              "      const buttonEl =\n",
              "        document.querySelector('#df-74c58550-86ed-40d1-bb7a-c79f3018d1f0 button.colab-df-convert');\n",
              "      buttonEl.style.display =\n",
              "        google.colab.kernel.accessAllowed ? 'block' : 'none';\n",
              "\n",
              "      async function convertToInteractive(key) {\n",
              "        const element = document.querySelector('#df-74c58550-86ed-40d1-bb7a-c79f3018d1f0');\n",
              "        const dataTable =\n",
              "          await google.colab.kernel.invokeFunction('convertToInteractive',\n",
              "                                                    [key], {});\n",
              "        if (!dataTable) return;\n",
              "\n",
              "        const docLinkHtml = 'Like what you see? Visit the ' +\n",
              "          '<a target=\"_blank\" href=https://colab.research.google.com/notebooks/data_table.ipynb>data table notebook</a>'\n",
              "          + ' to learn more about interactive tables.';\n",
              "        element.innerHTML = '';\n",
              "        dataTable['output_type'] = 'display_data';\n",
              "        await google.colab.output.renderOutput(dataTable, element);\n",
              "        const docLink = document.createElement('div');\n",
              "        docLink.innerHTML = docLinkHtml;\n",
              "        element.appendChild(docLink);\n",
              "      }\n",
              "    </script>\n",
              "  </div>\n",
              "\n",
              "\n",
              "<div id=\"df-3883ed40-477e-4cd4-9ea2-0918814d991d\">\n",
              "  <button class=\"colab-df-quickchart\" onclick=\"quickchart('df-3883ed40-477e-4cd4-9ea2-0918814d991d')\"\n",
              "            title=\"Suggest charts\"\n",
              "            style=\"display:none;\">\n",
              "\n",
              "<svg xmlns=\"http://www.w3.org/2000/svg\" height=\"24px\"viewBox=\"0 0 24 24\"\n",
              "     width=\"24px\">\n",
              "    <g>\n",
              "        <path d=\"M19 3H5c-1.1 0-2 .9-2 2v14c0 1.1.9 2 2 2h14c1.1 0 2-.9 2-2V5c0-1.1-.9-2-2-2zM9 17H7v-7h2v7zm4 0h-2V7h2v10zm4 0h-2v-4h2v4z\"/>\n",
              "    </g>\n",
              "</svg>\n",
              "  </button>\n",
              "\n",
              "<style>\n",
              "  .colab-df-quickchart {\n",
              "      --bg-color: #E8F0FE;\n",
              "      --fill-color: #1967D2;\n",
              "      --hover-bg-color: #E2EBFA;\n",
              "      --hover-fill-color: #174EA6;\n",
              "      --disabled-fill-color: #AAA;\n",
              "      --disabled-bg-color: #DDD;\n",
              "  }\n",
              "\n",
              "  [theme=dark] .colab-df-quickchart {\n",
              "      --bg-color: #3B4455;\n",
              "      --fill-color: #D2E3FC;\n",
              "      --hover-bg-color: #434B5C;\n",
              "      --hover-fill-color: #FFFFFF;\n",
              "      --disabled-bg-color: #3B4455;\n",
              "      --disabled-fill-color: #666;\n",
              "  }\n",
              "\n",
              "  .colab-df-quickchart {\n",
              "    background-color: var(--bg-color);\n",
              "    border: none;\n",
              "    border-radius: 50%;\n",
              "    cursor: pointer;\n",
              "    display: none;\n",
              "    fill: var(--fill-color);\n",
              "    height: 32px;\n",
              "    padding: 0;\n",
              "    width: 32px;\n",
              "  }\n",
              "\n",
              "  .colab-df-quickchart:hover {\n",
              "    background-color: var(--hover-bg-color);\n",
              "    box-shadow: 0 1px 2px rgba(60, 64, 67, 0.3), 0 1px 3px 1px rgba(60, 64, 67, 0.15);\n",
              "    fill: var(--button-hover-fill-color);\n",
              "  }\n",
              "\n",
              "  .colab-df-quickchart-complete:disabled,\n",
              "  .colab-df-quickchart-complete:disabled:hover {\n",
              "    background-color: var(--disabled-bg-color);\n",
              "    fill: var(--disabled-fill-color);\n",
              "    box-shadow: none;\n",
              "  }\n",
              "\n",
              "  .colab-df-spinner {\n",
              "    border: 2px solid var(--fill-color);\n",
              "    border-color: transparent;\n",
              "    border-bottom-color: var(--fill-color);\n",
              "    animation:\n",
              "      spin 1s steps(1) infinite;\n",
              "  }\n",
              "\n",
              "  @keyframes spin {\n",
              "    0% {\n",
              "      border-color: transparent;\n",
              "      border-bottom-color: var(--fill-color);\n",
              "      border-left-color: var(--fill-color);\n",
              "    }\n",
              "    20% {\n",
              "      border-color: transparent;\n",
              "      border-left-color: var(--fill-color);\n",
              "      border-top-color: var(--fill-color);\n",
              "    }\n",
              "    30% {\n",
              "      border-color: transparent;\n",
              "      border-left-color: var(--fill-color);\n",
              "      border-top-color: var(--fill-color);\n",
              "      border-right-color: var(--fill-color);\n",
              "    }\n",
              "    40% {\n",
              "      border-color: transparent;\n",
              "      border-right-color: var(--fill-color);\n",
              "      border-top-color: var(--fill-color);\n",
              "    }\n",
              "    60% {\n",
              "      border-color: transparent;\n",
              "      border-right-color: var(--fill-color);\n",
              "    }\n",
              "    80% {\n",
              "      border-color: transparent;\n",
              "      border-right-color: var(--fill-color);\n",
              "      border-bottom-color: var(--fill-color);\n",
              "    }\n",
              "    90% {\n",
              "      border-color: transparent;\n",
              "      border-bottom-color: var(--fill-color);\n",
              "    }\n",
              "  }\n",
              "</style>\n",
              "\n",
              "  <script>\n",
              "    async function quickchart(key) {\n",
              "      const quickchartButtonEl =\n",
              "        document.querySelector('#' + key + ' button');\n",
              "      quickchartButtonEl.disabled = true;  // To prevent multiple clicks.\n",
              "      quickchartButtonEl.classList.add('colab-df-spinner');\n",
              "      try {\n",
              "        const charts = await google.colab.kernel.invokeFunction(\n",
              "            'suggestCharts', [key], {});\n",
              "      } catch (error) {\n",
              "        console.error('Error during call to suggestCharts:', error);\n",
              "      }\n",
              "      quickchartButtonEl.classList.remove('colab-df-spinner');\n",
              "      quickchartButtonEl.classList.add('colab-df-quickchart-complete');\n",
              "    }\n",
              "    (() => {\n",
              "      let quickchartButtonEl =\n",
              "        document.querySelector('#df-3883ed40-477e-4cd4-9ea2-0918814d991d button');\n",
              "      quickchartButtonEl.style.display =\n",
              "        google.colab.kernel.accessAllowed ? 'block' : 'none';\n",
              "    })();\n",
              "  </script>\n",
              "</div>\n",
              "\n",
              "    </div>\n",
              "  </div>\n"
            ],
            "application/vnd.google.colaboratory.intrinsic+json": {
              "type": "dataframe"
            }
          },
          "metadata": {},
          "execution_count": 73
        }
      ]
    },
    {
      "cell_type": "code",
      "source": [
        "from sklearn.decomposition import PCA\n",
        "pca = PCA(n_components=50)\n",
        "pca.fit(train_data_imp)\n",
        "\n",
        "\n",
        "train_data_imp_pca = pca.transform(train_data_imp)\n",
        "pca.explained_variance_ratio_"
      ],
      "metadata": {
        "colab": {
          "base_uri": "https://localhost:8080/"
        },
        "id": "65hQCdptV35T",
        "outputId": "1dcf6370-8608-4e46-fe64-e703f7dccefa"
      },
      "execution_count": null,
      "outputs": [
        {
          "output_type": "execute_result",
          "data": {
            "text/plain": [
              "array([0.16041045, 0.07331221, 0.06318314, 0.04330732, 0.0294759 ,\n",
              "       0.02667992, 0.02505619, 0.02360354, 0.02249575, 0.02203017,\n",
              "       0.02113407, 0.02111137, 0.02044228, 0.01997282, 0.01856558,\n",
              "       0.01802254, 0.01790649, 0.01708545, 0.01659414, 0.01495456,\n",
              "       0.01452867, 0.01296256, 0.01250145, 0.01236742, 0.00967874,\n",
              "       0.00910014, 0.00882653, 0.00834325, 0.0072749 , 0.00662645,\n",
              "       0.00644842, 0.00610272, 0.00592179, 0.00569398, 0.00552854,\n",
              "       0.00542734, 0.00519586, 0.00497067, 0.00464294, 0.00452989,\n",
              "       0.00437232, 0.00430605, 0.00414011, 0.00401879, 0.00385741,\n",
              "       0.00378295, 0.00362539, 0.00354611, 0.00349377, 0.00334932])"
            ]
          },
          "metadata": {},
          "execution_count": 139
        }
      ]
    },
    {
      "cell_type": "code",
      "source": [
        "from xgboost import XGBRegressor\n",
        "from sklearn.ensemble import HistGradientBoostingRegressor\n",
        "from sklearn.model_selection import GridSearchCV\n",
        "\n",
        "train_X, val_X, train_y, val_y = train_test_split(train_data_imp, target_y, random_state=1)\n",
        "xgbr_model = XGBRegressor(random_state=1, gamma= 0.01, learning_rate= 0.1, max_depth= 5, n_estimator= 100)\n",
        "hgbr_model = HistGradientBoostingRegressor(learning_rate= 0.1, loss= 'absolute_error', max_depth= 5, max_iter= 300, random_state=1)\n",
        "rf_model = RandomForestRegressor(criterion= 'poisson', max_depth= 7, n_estimators= 300, random_state=1)\n",
        "\n",
        "search_space = {\n",
        "    \"n_estimators\": [100, 200, 300, 500],\n",
        "    \"max_depth\": [2, 5, 7],\n",
        "    # \"gamma\": [0.01, 0.1],\n",
        "    \"learning_rate\": [0.001, 0.01, 0.1, 1]\n",
        "}\n",
        "\n",
        "hgbr_search_space = {\n",
        "    \"loss\": [\"squared_error\", \"absolute_error\"],\n",
        "    \"learning_rate\": [0.001, 0.01, 0.1, 1],\n",
        "    \"max_iter\": [100, 200, 300],\n",
        "    \"max_depth\": [2, 5, 7],\n",
        "}\n",
        "\n",
        "rf_search_space = {\n",
        "    \"n_estimators\": [100, 200, 300],\n",
        "    \"criterion\": [\"squared_error\", \"friedman_mse\", \"poisson\"],\n",
        "    \"max_depth\": [2, 5, 7],\n",
        "    # \"gamma\": [0.01, 0.1],\n",
        "    # \"learning_rate\": [0.001, 0.01, 0.1, 1]\n",
        "}\n",
        "\n",
        "# GS = GridSearchCV(estimator= hgbr_model, param_grid= hgbr_search_space, cv=5, scoring=[\"neg_mean_absolute_error\",\"r2\"], refit=\"neg_mean_absolute_error\", verbose=4)\n",
        "# GS.fit(train_X, train_y)\n",
        "# GS.best_params_\n",
        "\n",
        "hgbr_model.fit(train_X, train_y)\n",
        "hgbr_model.score(val_X, val_y)"
      ],
      "metadata": {
        "colab": {
          "base_uri": "https://localhost:8080/"
        },
        "collapsed": true,
        "id": "tSmUypbBt9lu",
        "outputId": "fc67eb88-e4f9-4144-c0a1-27126f9b1094"
      },
      "execution_count": 74,
      "outputs": [
        {
          "output_type": "execute_result",
          "data": {
            "text/plain": [
              "0.8831246240990768"
            ]
          },
          "metadata": {},
          "execution_count": 74
        }
      ]
    },
    {
      "cell_type": "code",
      "source": [
        "# GS.best_params_\n",
        "# GS.best_score_\n",
        "# GS.best_estimator_\n",
        "# pd.DataFrame(GS.cv_results_).sort_values(by=\"rank_test_neg_mean_absolute_error\")[['mean_test_neg_mean_absolute_error','std_test_neg_mean_absolute_error']]\n",
        "\n",
        "# pd.DataFrame(GS.cv_results_).columns\n",
        "# ['mean_fit_time', 'std_fit_time', 'mean_score_time', 'std_score_time',\n",
        "#        'param_criterion', 'param_max_depth', 'param_n_estimators', 'params',\n",
        "#        'split0_test_neg_mean_absolute_error',\n",
        "#        'split1_test_neg_mean_absolute_error',\n",
        "#        'split2_test_neg_mean_absolute_error',\n",
        "#        'split3_test_neg_mean_absolute_error',\n",
        "#        'split4_test_neg_mean_absolute_error',\n",
        "#        'mean_test_neg_mean_absolute_error', 'std_test_neg_mean_absolute_error',\n",
        "#        'rank_test_neg_mean_absolute_error', 'split0_test_r2', 'split1_test_r2',\n",
        "#        'split2_test_r2', 'split3_test_r2', 'split4_test_r2', 'mean_test_r2',\n",
        "#        'std_test_r2', 'rank_test_r2']\n",
        "\n",
        "rf_val_predictions = hgbr_model.predict(val_X)\n",
        "rf_val_mae = mean_absolute_error(val_y, rf_val_predictions)\n",
        "rf_val_mae\n"
      ],
      "metadata": {
        "colab": {
          "base_uri": "https://localhost:8080/"
        },
        "id": "iDuwM6nOwYae",
        "outputId": "d6fdb88c-4dff-46d0-f1a6-ca60e2955bec"
      },
      "execution_count": 75,
      "outputs": [
        {
          "output_type": "execute_result",
          "data": {
            "text/plain": [
              "14956.952516346586"
            ]
          },
          "metadata": {},
          "execution_count": 75
        }
      ]
    },
    {
      "cell_type": "code",
      "source": [
        "from sklearn.ensemble import HistGradientBoostingRegressor\n",
        "from xgboost import XGBRegressor\n",
        "\n",
        "train_X, val_X, train_y, val_y = train_test_split(train_data_imp, target_y, random_state=1)\n",
        "# rf_model = HistGradientBoostingRegressor(random_state=1)\n",
        "rf_model = XGBRegressor(random_state=1)\n",
        "# rf_model = RandomForestRegressor(n_estimators=100, random_state=1)\n",
        "rf_model.fit(train_X, train_y)\n",
        "rf_model\n",
        "\n",
        "rf_val_predictions = rf_model.predict(val_X)\n",
        "rf_val_mae = mean_absolute_error(val_y, rf_val_predictions)\n",
        "rf_val_mae\n",
        "\n",
        "# rf_model.score(val_X, val_y)\n"
      ],
      "metadata": {
        "colab": {
          "base_uri": "https://localhost:8080/"
        },
        "id": "Emuz-6feNomY",
        "outputId": "6b15e85d-25b2-4d68-9b95-50faabed308a"
      },
      "execution_count": 16,
      "outputs": [
        {
          "output_type": "execute_result",
          "data": {
            "text/plain": [
              "16613.24428510274"
            ]
          },
          "metadata": {},
          "execution_count": 16
        }
      ]
    },
    {
      "cell_type": "code",
      "source": [
        "test_validation =  hgbr_model.predict(test_data_imp)"
      ],
      "metadata": {
        "id": "AAuKwioNniko"
      },
      "execution_count": 76,
      "outputs": []
    },
    {
      "cell_type": "code",
      "source": [
        "submission = pd.DataFrame({'Id': test_data_imp.Id, 'SalePrice': test_validation})\n",
        "submission.to_csv('submission.csv', index=False)"
      ],
      "metadata": {
        "id": "Lpt7h3wxnVmB"
      },
      "execution_count": 77,
      "outputs": []
    },
    {
      "cell_type": "code",
      "source": [
        "!kaggle competitions submit home-data-for-ml-course -f submission.csv -m \"Another submission through the Google Colab!\""
      ],
      "metadata": {
        "id": "tLCMKHQ1nYoS",
        "colab": {
          "base_uri": "https://localhost:8080/"
        },
        "outputId": "5b7d4929-2a1c-4e0b-e3c0-9662a0a25d1f"
      },
      "execution_count": 47,
      "outputs": [
        {
          "output_type": "stream",
          "name": "stdout",
          "text": [
            "100% 36.5k/36.5k [00:00<00:00, 97.8kB/s]\n",
            "Successfully submitted to Housing Prices Competition for Kaggle Learn Users"
          ]
        }
      ]
    }
  ]
}