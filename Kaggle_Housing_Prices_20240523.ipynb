{
  "nbformat": 4,
  "nbformat_minor": 0,
  "metadata": {
    "colab": {
      "provenance": [],
      "authorship_tag": "ABX9TyNPKdlGbx/8eTpumGnhBxTt",
      "include_colab_link": true
    },
    "kernelspec": {
      "name": "python3",
      "display_name": "Python 3"
    },
    "language_info": {
      "name": "python"
    }
  },
  "cells": [
    {
      "cell_type": "markdown",
      "metadata": {
        "id": "view-in-github",
        "colab_type": "text"
      },
      "source": [
        "<a href=\"https://colab.research.google.com/github/techisteps/KaggleCompetition/blob/main/Kaggle_Housing_Prices_20240523.ipynb\" target=\"_parent\"><img src=\"https://colab.research.google.com/assets/colab-badge.svg\" alt=\"Open In Colab\"/></a>"
      ]
    },
    {
      "cell_type": "code",
      "execution_count": 1,
      "metadata": {
        "colab": {
          "base_uri": "https://localhost:8080/",
          "height": 73
        },
        "id": "F42B9LsEgcPB",
        "outputId": "42c0e5e9-c5af-477b-b107-9272d312b834"
      },
      "outputs": [
        {
          "output_type": "display_data",
          "data": {
            "text/plain": [
              "<IPython.core.display.HTML object>"
            ],
            "text/html": [
              "\n",
              "     <input type=\"file\" id=\"files-4cd2fa4e-015c-40b8-9b18-ac5759bed96f\" name=\"files[]\"  disabled\n",
              "        style=\"border:none\" />\n",
              "     <output id=\"result-4cd2fa4e-015c-40b8-9b18-ac5759bed96f\">\n",
              "      Upload widget is only available when the cell has been executed in the\n",
              "      current browser session. Please rerun this cell to enable.\n",
              "      </output>\n",
              "      <script>// Copyright 2017 Google LLC\n",
              "//\n",
              "// Licensed under the Apache License, Version 2.0 (the \"License\");\n",
              "// you may not use this file except in compliance with the License.\n",
              "// You may obtain a copy of the License at\n",
              "//\n",
              "//      http://www.apache.org/licenses/LICENSE-2.0\n",
              "//\n",
              "// Unless required by applicable law or agreed to in writing, software\n",
              "// distributed under the License is distributed on an \"AS IS\" BASIS,\n",
              "// WITHOUT WARRANTIES OR CONDITIONS OF ANY KIND, either express or implied.\n",
              "// See the License for the specific language governing permissions and\n",
              "// limitations under the License.\n",
              "\n",
              "/**\n",
              " * @fileoverview Helpers for google.colab Python module.\n",
              " */\n",
              "(function(scope) {\n",
              "function span(text, styleAttributes = {}) {\n",
              "  const element = document.createElement('span');\n",
              "  element.textContent = text;\n",
              "  for (const key of Object.keys(styleAttributes)) {\n",
              "    element.style[key] = styleAttributes[key];\n",
              "  }\n",
              "  return element;\n",
              "}\n",
              "\n",
              "// Max number of bytes which will be uploaded at a time.\n",
              "const MAX_PAYLOAD_SIZE = 100 * 1024;\n",
              "\n",
              "function _uploadFiles(inputId, outputId) {\n",
              "  const steps = uploadFilesStep(inputId, outputId);\n",
              "  const outputElement = document.getElementById(outputId);\n",
              "  // Cache steps on the outputElement to make it available for the next call\n",
              "  // to uploadFilesContinue from Python.\n",
              "  outputElement.steps = steps;\n",
              "\n",
              "  return _uploadFilesContinue(outputId);\n",
              "}\n",
              "\n",
              "// This is roughly an async generator (not supported in the browser yet),\n",
              "// where there are multiple asynchronous steps and the Python side is going\n",
              "// to poll for completion of each step.\n",
              "// This uses a Promise to block the python side on completion of each step,\n",
              "// then passes the result of the previous step as the input to the next step.\n",
              "function _uploadFilesContinue(outputId) {\n",
              "  const outputElement = document.getElementById(outputId);\n",
              "  const steps = outputElement.steps;\n",
              "\n",
              "  const next = steps.next(outputElement.lastPromiseValue);\n",
              "  return Promise.resolve(next.value.promise).then((value) => {\n",
              "    // Cache the last promise value to make it available to the next\n",
              "    // step of the generator.\n",
              "    outputElement.lastPromiseValue = value;\n",
              "    return next.value.response;\n",
              "  });\n",
              "}\n",
              "\n",
              "/**\n",
              " * Generator function which is called between each async step of the upload\n",
              " * process.\n",
              " * @param {string} inputId Element ID of the input file picker element.\n",
              " * @param {string} outputId Element ID of the output display.\n",
              " * @return {!Iterable<!Object>} Iterable of next steps.\n",
              " */\n",
              "function* uploadFilesStep(inputId, outputId) {\n",
              "  const inputElement = document.getElementById(inputId);\n",
              "  inputElement.disabled = false;\n",
              "\n",
              "  const outputElement = document.getElementById(outputId);\n",
              "  outputElement.innerHTML = '';\n",
              "\n",
              "  const pickedPromise = new Promise((resolve) => {\n",
              "    inputElement.addEventListener('change', (e) => {\n",
              "      resolve(e.target.files);\n",
              "    });\n",
              "  });\n",
              "\n",
              "  const cancel = document.createElement('button');\n",
              "  inputElement.parentElement.appendChild(cancel);\n",
              "  cancel.textContent = 'Cancel upload';\n",
              "  const cancelPromise = new Promise((resolve) => {\n",
              "    cancel.onclick = () => {\n",
              "      resolve(null);\n",
              "    };\n",
              "  });\n",
              "\n",
              "  // Wait for the user to pick the files.\n",
              "  const files = yield {\n",
              "    promise: Promise.race([pickedPromise, cancelPromise]),\n",
              "    response: {\n",
              "      action: 'starting',\n",
              "    }\n",
              "  };\n",
              "\n",
              "  cancel.remove();\n",
              "\n",
              "  // Disable the input element since further picks are not allowed.\n",
              "  inputElement.disabled = true;\n",
              "\n",
              "  if (!files) {\n",
              "    return {\n",
              "      response: {\n",
              "        action: 'complete',\n",
              "      }\n",
              "    };\n",
              "  }\n",
              "\n",
              "  for (const file of files) {\n",
              "    const li = document.createElement('li');\n",
              "    li.append(span(file.name, {fontWeight: 'bold'}));\n",
              "    li.append(span(\n",
              "        `(${file.type || 'n/a'}) - ${file.size} bytes, ` +\n",
              "        `last modified: ${\n",
              "            file.lastModifiedDate ? file.lastModifiedDate.toLocaleDateString() :\n",
              "                                    'n/a'} - `));\n",
              "    const percent = span('0% done');\n",
              "    li.appendChild(percent);\n",
              "\n",
              "    outputElement.appendChild(li);\n",
              "\n",
              "    const fileDataPromise = new Promise((resolve) => {\n",
              "      const reader = new FileReader();\n",
              "      reader.onload = (e) => {\n",
              "        resolve(e.target.result);\n",
              "      };\n",
              "      reader.readAsArrayBuffer(file);\n",
              "    });\n",
              "    // Wait for the data to be ready.\n",
              "    let fileData = yield {\n",
              "      promise: fileDataPromise,\n",
              "      response: {\n",
              "        action: 'continue',\n",
              "      }\n",
              "    };\n",
              "\n",
              "    // Use a chunked sending to avoid message size limits. See b/62115660.\n",
              "    let position = 0;\n",
              "    do {\n",
              "      const length = Math.min(fileData.byteLength - position, MAX_PAYLOAD_SIZE);\n",
              "      const chunk = new Uint8Array(fileData, position, length);\n",
              "      position += length;\n",
              "\n",
              "      const base64 = btoa(String.fromCharCode.apply(null, chunk));\n",
              "      yield {\n",
              "        response: {\n",
              "          action: 'append',\n",
              "          file: file.name,\n",
              "          data: base64,\n",
              "        },\n",
              "      };\n",
              "\n",
              "      let percentDone = fileData.byteLength === 0 ?\n",
              "          100 :\n",
              "          Math.round((position / fileData.byteLength) * 100);\n",
              "      percent.textContent = `${percentDone}% done`;\n",
              "\n",
              "    } while (position < fileData.byteLength);\n",
              "  }\n",
              "\n",
              "  // All done.\n",
              "  yield {\n",
              "    response: {\n",
              "      action: 'complete',\n",
              "    }\n",
              "  };\n",
              "}\n",
              "\n",
              "scope.google = scope.google || {};\n",
              "scope.google.colab = scope.google.colab || {};\n",
              "scope.google.colab._files = {\n",
              "  _uploadFiles,\n",
              "  _uploadFilesContinue,\n",
              "};\n",
              "})(self);\n",
              "</script> "
            ]
          },
          "metadata": {}
        },
        {
          "output_type": "stream",
          "name": "stdout",
          "text": [
            "Saved kaggle.json to /content/kaggle.json\n"
          ]
        }
      ],
      "source": [
        "from google.colab import files\n",
        "files.upload_file(filename = \"kaggle.json\")"
      ]
    },
    {
      "cell_type": "code",
      "source": [
        "!mkdir ~/.kaggle\n",
        "!cp /content/kaggle.json ~/.kaggle/ && chmod 600 /root/.kaggle/kaggle.json\n",
        "!rm /content/kaggle.json\n",
        "# !ls -lrt ~/.kaggle\n",
        "# !ls -lrt /content"
      ],
      "metadata": {
        "colab": {
          "base_uri": "https://localhost:8080/"
        },
        "id": "fuLILfTTh2tI",
        "outputId": "20448279-cb7f-49de-808e-cb801e3871ad"
      },
      "execution_count": 2,
      "outputs": [
        {
          "output_type": "stream",
          "name": "stdout",
          "text": [
            "mkdir: cannot create directory ‘/root/.kaggle’: File exists\n"
          ]
        }
      ]
    },
    {
      "cell_type": "code",
      "source": [
        "# !kaggle competitions list -s home-data\n",
        "!kaggle competitions download -c home-data-for-ml-course\n",
        "# !ls -lrt ~/.kaggle\n",
        "# !ls -lRt /content\n",
        "\n",
        "!unzip /content/home-data-for-ml-course.zip\n",
        "# !unzip -l /content/home-data-for-ml-course.zip\n",
        "# !ls -lrtR /content"
      ],
      "metadata": {
        "colab": {
          "base_uri": "https://localhost:8080/"
        },
        "id": "KDchBfXck7V0",
        "outputId": "bdb44020-9b80-44d7-946d-329a9911e276"
      },
      "execution_count": 32,
      "outputs": [
        {
          "output_type": "stream",
          "name": "stdout",
          "text": [
            "home-data-for-ml-course.zip: Skipping, found more recently modified local copy (use --force to force download)\n",
            "Archive:  /content/home-data-for-ml-course.zip\n",
            "replace data_description.txt? [y]es, [n]o, [A]ll, [N]one, [r]ename: "
          ]
        }
      ]
    },
    {
      "cell_type": "markdown",
      "source": [
        "# Analysis\n",
        "You can now start your analysis"
      ],
      "metadata": {
        "id": "i8dwbfAYl5He"
      }
    },
    {
      "cell_type": "code",
      "source": [
        "import pandas as pd\n",
        "from sklearn.ensemble import RandomForestRegressor\n",
        "from sklearn.metrics import mean_absolute_error\n",
        "from sklearn.model_selection import train_test_split\n",
        "\n",
        "file_train = \"/content/train.csv\"\n",
        "file_test = \"/content/test.csv\"\n",
        "file_sample_submission = \"/content/sample_submission.csv\"\n",
        "file_data_disc = \"/content/data_description.txt\"\n",
        "\n",
        "train_data = pd.read_csv(file_train)\n",
        "target_y = train_data['SalePrice']\n",
        "train_data = train_data.drop('SalePrice', axis=1)\n",
        "test_data = pd.read_csv(file_test)\n"
      ],
      "metadata": {
        "id": "uZ_6zBmOnSG7"
      },
      "execution_count": 73,
      "outputs": []
    },
    {
      "cell_type": "code",
      "source": [
        "train_data.dtypes.unique()"
      ],
      "metadata": {
        "colab": {
          "base_uri": "https://localhost:8080/"
        },
        "id": "_o1BlWz5keyH",
        "outputId": "a11e1aba-c73d-4dd8-9835-f5d28517e12a"
      },
      "execution_count": 46,
      "outputs": [
        {
          "output_type": "execute_result",
          "data": {
            "text/plain": [
              "array([dtype('int64'), dtype('O'), dtype('float64')], dtype=object)"
            ]
          },
          "metadata": {},
          "execution_count": 46
        }
      ]
    },
    {
      "cell_type": "code",
      "source": [
        "features = train_data.columns.to_list()\n",
        "# features.remove('SalePrice')\n",
        "\n",
        "# features_obj = []\n",
        "# features_num = []\n",
        "\n",
        "# for v in features:\n",
        "#   if train_data[v].dtypes == \"object\":\n",
        "#     features_obj.append( v )\n",
        "#   else:\n",
        "#     features_num.append( v )\n",
        "\n",
        "\n",
        "features_obj = train_data.select_dtypes(include = ['O']).columns\n",
        "features_num = train_data.select_dtypes(include = ['float64', 'int64']).columns\n",
        "\n",
        "\n",
        "# print(\"features_obj : \", features_obj)\n",
        "# print(\"len(features_obj) : \", len(features_obj))\n",
        "\n",
        "# print(\"features_num : \", features_num)\n",
        "# print(\"len(features_num) : \", len(features_num))\n",
        "\n",
        "# for v in features:\n",
        "#   # print(v, train_data[v].dtypes)\n",
        "#   if train_data[v].dtypes == \"object\":\n",
        "#     train_data[v] = train_data[v].fillna(\"NAN\")\n",
        "#   else:\n",
        "#     train_data[v] = train_data[v].fillna(train_data[v].median())\n",
        "\n",
        "#   if test_data[v].dtypes == \"object\":\n",
        "#     test_data[v] = test_data[v].fillna(\"NAN\")\n",
        "#   else:\n",
        "#     test_data[v] = test_data[v].fillna(test_data[v].median())"
      ],
      "metadata": {
        "id": "aXKOUv3QlhIk"
      },
      "execution_count": 74,
      "outputs": []
    },
    {
      "cell_type": "markdown",
      "source": [
        "# Imputer null values from numeric columns\n",
        "---"
      ],
      "metadata": {
        "id": "ngCVKc2d7avR"
      }
    },
    {
      "cell_type": "code",
      "source": [
        "# print(test_data.columns.to_list())\n",
        "# print(\"\\n\")\n",
        "# print(train_data.drop(\"SalePrice\", axis=1).columns.to_list())\n",
        "# train_data.columns.to_list()"
      ],
      "metadata": {
        "colab": {
          "base_uri": "https://localhost:8080/"
        },
        "collapsed": true,
        "id": "EURGL9wtZgDc",
        "outputId": "ef697bf8-0058-4f73-aeab-5f74db2865b7"
      },
      "execution_count": 89,
      "outputs": [
        {
          "output_type": "stream",
          "name": "stdout",
          "text": [
            "['Id', 'MSSubClass', 'MSZoning', 'LotFrontage', 'LotArea', 'Street', 'Alley', 'LotShape', 'LandContour', 'Utilities', 'LotConfig', 'LandSlope', 'Neighborhood', 'Condition1', 'Condition2', 'BldgType', 'HouseStyle', 'OverallQual', 'OverallCond', 'YearBuilt', 'YearRemodAdd', 'RoofStyle', 'RoofMatl', 'Exterior1st', 'Exterior2nd', 'MasVnrType', 'MasVnrArea', 'ExterQual', 'ExterCond', 'Foundation', 'BsmtQual', 'BsmtCond', 'BsmtExposure', 'BsmtFinType1', 'BsmtFinSF1', 'BsmtFinType2', 'BsmtFinSF2', 'BsmtUnfSF', 'TotalBsmtSF', 'Heating', 'HeatingQC', 'CentralAir', 'Electrical', '1stFlrSF', '2ndFlrSF', 'LowQualFinSF', 'GrLivArea', 'BsmtFullBath', 'BsmtHalfBath', 'FullBath', 'HalfBath', 'BedroomAbvGr', 'KitchenAbvGr', 'KitchenQual', 'TotRmsAbvGrd', 'Functional', 'Fireplaces', 'FireplaceQu', 'GarageType', 'GarageYrBlt', 'GarageFinish', 'GarageCars', 'GarageArea', 'GarageQual', 'GarageCond', 'PavedDrive', 'WoodDeckSF', 'OpenPorchSF', 'EnclosedPorch', '3SsnPorch', 'ScreenPorch', 'PoolArea', 'PoolQC', 'Fence', 'MiscFeature', 'MiscVal', 'MoSold', 'YrSold', 'SaleType', 'SaleCondition']\n",
            "\n",
            "\n",
            "['Id', 'MSSubClass', 'MSZoning', 'LotFrontage', 'LotArea', 'Street', 'Alley', 'LotShape', 'LandContour', 'Utilities', 'LotConfig', 'LandSlope', 'Neighborhood', 'Condition1', 'Condition2', 'BldgType', 'HouseStyle', 'OverallQual', 'OverallCond', 'YearBuilt', 'YearRemodAdd', 'RoofStyle', 'RoofMatl', 'Exterior1st', 'Exterior2nd', 'MasVnrType', 'MasVnrArea', 'ExterQual', 'ExterCond', 'Foundation', 'BsmtQual', 'BsmtCond', 'BsmtExposure', 'BsmtFinType1', 'BsmtFinSF1', 'BsmtFinType2', 'BsmtFinSF2', 'BsmtUnfSF', 'TotalBsmtSF', 'Heating', 'HeatingQC', 'CentralAir', 'Electrical', '1stFlrSF', '2ndFlrSF', 'LowQualFinSF', 'GrLivArea', 'BsmtFullBath', 'BsmtHalfBath', 'FullBath', 'HalfBath', 'BedroomAbvGr', 'KitchenAbvGr', 'KitchenQual', 'TotRmsAbvGrd', 'Functional', 'Fireplaces', 'FireplaceQu', 'GarageType', 'GarageYrBlt', 'GarageFinish', 'GarageCars', 'GarageArea', 'GarageQual', 'GarageCond', 'PavedDrive', 'WoodDeckSF', 'OpenPorchSF', 'EnclosedPorch', '3SsnPorch', 'ScreenPorch', 'PoolArea', 'PoolQC', 'Fence', 'MiscFeature', 'MiscVal', 'MoSold', 'YrSold', 'SaleType', 'SaleCondition']\n"
          ]
        },
        {
          "output_type": "execute_result",
          "data": {
            "text/plain": [
              "['Id',\n",
              " 'MSSubClass',\n",
              " 'MSZoning',\n",
              " 'LotFrontage',\n",
              " 'LotArea',\n",
              " 'Street',\n",
              " 'Alley',\n",
              " 'LotShape',\n",
              " 'LandContour',\n",
              " 'Utilities',\n",
              " 'LotConfig',\n",
              " 'LandSlope',\n",
              " 'Neighborhood',\n",
              " 'Condition1',\n",
              " 'Condition2',\n",
              " 'BldgType',\n",
              " 'HouseStyle',\n",
              " 'OverallQual',\n",
              " 'OverallCond',\n",
              " 'YearBuilt',\n",
              " 'YearRemodAdd',\n",
              " 'RoofStyle',\n",
              " 'RoofMatl',\n",
              " 'Exterior1st',\n",
              " 'Exterior2nd',\n",
              " 'MasVnrType',\n",
              " 'MasVnrArea',\n",
              " 'ExterQual',\n",
              " 'ExterCond',\n",
              " 'Foundation',\n",
              " 'BsmtQual',\n",
              " 'BsmtCond',\n",
              " 'BsmtExposure',\n",
              " 'BsmtFinType1',\n",
              " 'BsmtFinSF1',\n",
              " 'BsmtFinType2',\n",
              " 'BsmtFinSF2',\n",
              " 'BsmtUnfSF',\n",
              " 'TotalBsmtSF',\n",
              " 'Heating',\n",
              " 'HeatingQC',\n",
              " 'CentralAir',\n",
              " 'Electrical',\n",
              " '1stFlrSF',\n",
              " '2ndFlrSF',\n",
              " 'LowQualFinSF',\n",
              " 'GrLivArea',\n",
              " 'BsmtFullBath',\n",
              " 'BsmtHalfBath',\n",
              " 'FullBath',\n",
              " 'HalfBath',\n",
              " 'BedroomAbvGr',\n",
              " 'KitchenAbvGr',\n",
              " 'KitchenQual',\n",
              " 'TotRmsAbvGrd',\n",
              " 'Functional',\n",
              " 'Fireplaces',\n",
              " 'FireplaceQu',\n",
              " 'GarageType',\n",
              " 'GarageYrBlt',\n",
              " 'GarageFinish',\n",
              " 'GarageCars',\n",
              " 'GarageArea',\n",
              " 'GarageQual',\n",
              " 'GarageCond',\n",
              " 'PavedDrive',\n",
              " 'WoodDeckSF',\n",
              " 'OpenPorchSF',\n",
              " 'EnclosedPorch',\n",
              " '3SsnPorch',\n",
              " 'ScreenPorch',\n",
              " 'PoolArea',\n",
              " 'PoolQC',\n",
              " 'Fence',\n",
              " 'MiscFeature',\n",
              " 'MiscVal',\n",
              " 'MoSold',\n",
              " 'YrSold',\n",
              " 'SaleType',\n",
              " 'SaleCondition',\n",
              " 'SalePrice']"
            ]
          },
          "metadata": {},
          "execution_count": 89
        }
      ]
    },
    {
      "cell_type": "code",
      "source": [
        "train_data[features_obj].isnull().sum()\n",
        "train_data.Alley.isnull()\n",
        "train_data.Alley.head()\n",
        "train_data.head(100).TotalBsmtSF[:100]"
      ],
      "metadata": {
        "id": "wx6Exi6fMbjU"
      },
      "execution_count": null,
      "outputs": []
    },
    {
      "cell_type": "code",
      "source": [
        "from sklearn.compose import ColumnTransformer\n",
        "from sklearn.pipeline import Pipeline\n",
        "from sklearn.impute import SimpleImputer\n",
        "\n",
        "# print(type(train_data))\n",
        "# print(\"Before : \")\n",
        "# t_data = train_data[features_num].isnull().sum()\n",
        "# print( \"num\", t_data[t_data > 0] )\n",
        "\n",
        "# t_data = train_data[features_obj].isnull().sum()\n",
        "# print( \"obj\", t_data[t_data > 0] )\n",
        "\n",
        "# print(train_data.Alley.head())\n",
        "\n",
        "preprocessor = ColumnTransformer(\n",
        "    transformers=[\n",
        "        (\"nums\", SimpleImputer(strategy=\"median\"), features_num),\n",
        "        (\"objs\", SimpleImputer(strategy=\"constant\", fill_value=\"xxx\"), features_obj),\n",
        "    ]\n",
        ")\n",
        "\n",
        "# print( type(train_data))\n",
        "preprocessor.fit(train_data)\n",
        "# print( type(train_data))\n",
        "\n",
        "\n",
        "train_data_imp = pd.DataFrame( preprocessor.transform(train_data), columns = features_num.append(features_obj))\n",
        "test_data_imp = pd.DataFrame( preprocessor.transform(test_data), columns = features_num.append(features_obj))\n",
        "\n",
        "\n",
        "for col in features_num:\n",
        "  train_data_imp[col] = train_data_imp[col].astype('float64')\n",
        "  test_data_imp[col] = test_data_imp[col].astype('float64')\n",
        "\n",
        "for col in features_obj:\n",
        "  train_data_imp[col] = train_data_imp[col].astype('O')\n",
        "  test_data_imp[col] = test_data_imp[col].astype('O')\n",
        "\n",
        "\n",
        "print( type(train_data_imp))\n",
        "train_data_imp.info()\n",
        "test_data_imp.info()\n",
        "\n",
        "# test_data = preprocessor.transform(test_data)\n",
        "\n",
        "# imputer_num = SimpleImputer(strategy='median')\n",
        "# train_data[features_num] = imputer_num.fit_transform(train_data[features_num])\n",
        "# test_data[features_num] = imputer_num.transform(test_data[features_num])\n",
        "\n",
        "# print( imputer_num.statistics_ )\n",
        "\n",
        "# imputer_cat = SimpleImputer(strategy='constant', fill_value=\"xxx\")\n",
        "# train_data[features_obj] = imputer_cat.fit_transform(train_data[features_obj])\n",
        "# test_data[features_obj] = imputer_cat.transform(test_data[features_obj])\n",
        "\n",
        "# print( imputer_cat.statistics_ )\n",
        "\n",
        "# print(train_data.Alley.head())\n",
        "\n",
        "# print(type(train_data))\n",
        "# print(\"After : \")\n",
        "# t_data = train_data[features_num].isnull().sum()\n",
        "# print( \"num\", t_data[t_data > 0] )\n",
        "\n",
        "# t_data = train_data[features_obj].isnull().sum()\n",
        "# print( \"obj\", t_data[t_data > 0] )"
      ],
      "metadata": {
        "colab": {
          "base_uri": "https://localhost:8080/"
        },
        "collapsed": true,
        "id": "ppXjtJfn1YBQ",
        "outputId": "367f8b9a-f171-4cef-f58f-fbcf7ebca1fc"
      },
      "execution_count": 78,
      "outputs": [
        {
          "output_type": "stream",
          "name": "stdout",
          "text": [
            "<class 'pandas.core.frame.DataFrame'>\n",
            "<class 'pandas.core.frame.DataFrame'>\n",
            "RangeIndex: 1459 entries, 0 to 1458\n",
            "Data columns (total 80 columns):\n",
            " #   Column         Non-Null Count  Dtype  \n",
            "---  ------         --------------  -----  \n",
            " 0   Id             1459 non-null   float64\n",
            " 1   MSSubClass     1459 non-null   float64\n",
            " 2   LotFrontage    1459 non-null   float64\n",
            " 3   LotArea        1459 non-null   float64\n",
            " 4   OverallQual    1459 non-null   float64\n",
            " 5   OverallCond    1459 non-null   float64\n",
            " 6   YearBuilt      1459 non-null   float64\n",
            " 7   YearRemodAdd   1459 non-null   float64\n",
            " 8   MasVnrArea     1459 non-null   float64\n",
            " 9   BsmtFinSF1     1459 non-null   float64\n",
            " 10  BsmtFinSF2     1459 non-null   float64\n",
            " 11  BsmtUnfSF      1459 non-null   float64\n",
            " 12  TotalBsmtSF    1459 non-null   float64\n",
            " 13  1stFlrSF       1459 non-null   float64\n",
            " 14  2ndFlrSF       1459 non-null   float64\n",
            " 15  LowQualFinSF   1459 non-null   float64\n",
            " 16  GrLivArea      1459 non-null   float64\n",
            " 17  BsmtFullBath   1459 non-null   float64\n",
            " 18  BsmtHalfBath   1459 non-null   float64\n",
            " 19  FullBath       1459 non-null   float64\n",
            " 20  HalfBath       1459 non-null   float64\n",
            " 21  BedroomAbvGr   1459 non-null   float64\n",
            " 22  KitchenAbvGr   1459 non-null   float64\n",
            " 23  TotRmsAbvGrd   1459 non-null   float64\n",
            " 24  Fireplaces     1459 non-null   float64\n",
            " 25  GarageYrBlt    1459 non-null   float64\n",
            " 26  GarageCars     1459 non-null   float64\n",
            " 27  GarageArea     1459 non-null   float64\n",
            " 28  WoodDeckSF     1459 non-null   float64\n",
            " 29  OpenPorchSF    1459 non-null   float64\n",
            " 30  EnclosedPorch  1459 non-null   float64\n",
            " 31  3SsnPorch      1459 non-null   float64\n",
            " 32  ScreenPorch    1459 non-null   float64\n",
            " 33  PoolArea       1459 non-null   float64\n",
            " 34  MiscVal        1459 non-null   float64\n",
            " 35  MoSold         1459 non-null   float64\n",
            " 36  YrSold         1459 non-null   float64\n",
            " 37  MSZoning       1459 non-null   object \n",
            " 38  Street         1459 non-null   object \n",
            " 39  Alley          1459 non-null   object \n",
            " 40  LotShape       1459 non-null   object \n",
            " 41  LandContour    1459 non-null   object \n",
            " 42  Utilities      1459 non-null   object \n",
            " 43  LotConfig      1459 non-null   object \n",
            " 44  LandSlope      1459 non-null   object \n",
            " 45  Neighborhood   1459 non-null   object \n",
            " 46  Condition1     1459 non-null   object \n",
            " 47  Condition2     1459 non-null   object \n",
            " 48  BldgType       1459 non-null   object \n",
            " 49  HouseStyle     1459 non-null   object \n",
            " 50  RoofStyle      1459 non-null   object \n",
            " 51  RoofMatl       1459 non-null   object \n",
            " 52  Exterior1st    1459 non-null   object \n",
            " 53  Exterior2nd    1459 non-null   object \n",
            " 54  MasVnrType     1459 non-null   object \n",
            " 55  ExterQual      1459 non-null   object \n",
            " 56  ExterCond      1459 non-null   object \n",
            " 57  Foundation     1459 non-null   object \n",
            " 58  BsmtQual       1459 non-null   object \n",
            " 59  BsmtCond       1459 non-null   object \n",
            " 60  BsmtExposure   1459 non-null   object \n",
            " 61  BsmtFinType1   1459 non-null   object \n",
            " 62  BsmtFinType2   1459 non-null   object \n",
            " 63  Heating        1459 non-null   object \n",
            " 64  HeatingQC      1459 non-null   object \n",
            " 65  CentralAir     1459 non-null   object \n",
            " 66  Electrical     1459 non-null   object \n",
            " 67  KitchenQual    1459 non-null   object \n",
            " 68  Functional     1459 non-null   object \n",
            " 69  FireplaceQu    1459 non-null   object \n",
            " 70  GarageType     1459 non-null   object \n",
            " 71  GarageFinish   1459 non-null   object \n",
            " 72  GarageQual     1459 non-null   object \n",
            " 73  GarageCond     1459 non-null   object \n",
            " 74  PavedDrive     1459 non-null   object \n",
            " 75  PoolQC         1459 non-null   object \n",
            " 76  Fence          1459 non-null   object \n",
            " 77  MiscFeature    1459 non-null   object \n",
            " 78  SaleType       1459 non-null   object \n",
            " 79  SaleCondition  1459 non-null   object \n",
            "dtypes: float64(37), object(43)\n",
            "memory usage: 912.0+ KB\n"
          ]
        }
      ]
    },
    {
      "cell_type": "code",
      "source": [
        "from sklearn.compose import ColumnTransformer\n",
        "??ColumnTransformer"
      ],
      "metadata": {
        "id": "x1I5KeoS75Tr"
      },
      "execution_count": 61,
      "outputs": []
    },
    {
      "cell_type": "code",
      "source": [
        "from sklearn.ensemble import HistGradientBoostingRegressor\n",
        "\n",
        "train_X, val_X, train_y, val_y = train_test_split(train_data_imp[features_num], target_y, random_state=1)\n",
        "# rf_model = HistGradientBoostingRegressor(random_state=1)\n",
        "rf_model = RandomForestRegressor(n_estimators=100, random_state=1)\n",
        "rf_model.fit(train_X, train_y)\n",
        "rf_model\n",
        "\n",
        "rf_val_predictions = rf_model.predict(val_X)\n",
        "rf_val_mae = mean_absolute_error(val_y, rf_val_predictions)\n",
        "rf_val_mae\n"
      ],
      "metadata": {
        "colab": {
          "base_uri": "https://localhost:8080/"
        },
        "id": "Emuz-6feNomY",
        "outputId": "1cb6f1b2-0f26-4e9b-a674-520c25b49e82"
      },
      "execution_count": 87,
      "outputs": [
        {
          "output_type": "execute_result",
          "data": {
            "text/plain": [
              "16925.11978082192"
            ]
          },
          "metadata": {},
          "execution_count": 87
        }
      ]
    },
    {
      "cell_type": "code",
      "source": [
        "test_validation =  rf_model.predict(test_data_imp[features_num])"
      ],
      "metadata": {
        "id": "AAuKwioNniko"
      },
      "execution_count": 89,
      "outputs": []
    },
    {
      "cell_type": "code",
      "source": [
        "submission = pd.DataFrame({'Id': test_data.Id, 'SalePrice': test_validation})\n",
        "submission.to_csv('submission.csv', index=False)"
      ],
      "metadata": {
        "id": "Lpt7h3wxnVmB"
      },
      "execution_count": null,
      "outputs": []
    },
    {
      "cell_type": "code",
      "source": [
        "# !kaggle competitions submit home-data-for-ml-course -f submission.csv -m \"Another submission through the Google Colab!\""
      ],
      "metadata": {
        "id": "tLCMKHQ1nYoS"
      },
      "execution_count": null,
      "outputs": []
    },
    {
      "cell_type": "code",
      "source": [
        "# !pip install ydata-profiling\n",
        "# from ydata_profiling import ProfileReport\n",
        "# profile = ProfileReport(train_data, title=\"Profiling Report\")\n",
        "# # profile.to_widgets()\n",
        "# # profile.to_notebook_iframe()\n",
        "# profile.to_file(\"your_report.html\")"
      ],
      "metadata": {
        "collapsed": true,
        "id": "VWWXXFbWc5wP"
      },
      "execution_count": null,
      "outputs": []
    },
    {
      "cell_type": "code",
      "source": [
        "#train_data.dtypes.unique()\n",
        "# train_data.select_dtypes(exclude = object).describe()\n",
        "\n",
        "# train_data.Alley.unique()\n",
        "# train_data.Alley.describe()\n",
        "# train_data.Alley.value_counts()\n",
        "\n",
        "# train_data.Alley.isnull().sum()\n",
        "# train_data.Alley.fillna(\"NAN\").hist()\n",
        "# train_data.Alley.hist()\n",
        "\n",
        "# train_data.dtypes.unique()\n",
        "# features = train_data.select_dtypes(exclude = object).columns.tolist()\n",
        "# train_data.isnull().sum().map(lambda x: print(x))\n",
        "\n",
        "\n",
        "# print(l[:10])\n",
        "# train_data[  > 0 ]\n",
        "\n",
        "# features = train_data.select_dtypes(exclude = object).columns.tolist()\n",
        "# featuresL = []\n",
        "# l = train_data.isnull().sum()\n",
        "# for i in l.index:\n",
        "#   if l[i] > 0:\n",
        "#     print(i, type(i))\n",
        "#     featuresL.append( i )\n",
        "\n",
        "\n",
        "# print(featuresL)\n",
        "\n",
        "\n",
        "# # !pip install ydata-profiling\n",
        "# from ydata_profiling import ProfileReport\n",
        "# profile = ProfileReport(train_data[featuresL], title=\"Profiling Report\")\n",
        "# profile.to_file(\"your_report.html\")\n",
        "\n",
        "# # train_data.isnull().sum()[\"Street\"]\n",
        "\n",
        "\n"
      ],
      "metadata": {
        "id": "S3_7ygfC2rWl",
        "collapsed": true
      },
      "execution_count": null,
      "outputs": []
    },
    {
      "cell_type": "code",
      "source": [
        "# from ydata_profiling import ProfileReport\n",
        "# profile = ProfileReport(train_data[featuresL], title=\"Profiling Report\")\n",
        "# profile.to_file(\"your_report.html\")"
      ],
      "metadata": {
        "id": "fi6qmrcKl-pS"
      },
      "execution_count": null,
      "outputs": []
    },
    {
      "cell_type": "code",
      "source": [
        "# train_data.dtypes.unique()\n",
        "# features = train_data.select_dtypes(exclude = object).columns.tolist()\n",
        "# print( features.index('SalePrice') )\n",
        "# features.remove( 'SalePrice' )\n",
        "# print(features)\n",
        "\n",
        "\n",
        "# Select all non-object columns\n",
        "# non_object_cols = train_data.select_dtypes(exclude='object')\n",
        "\n",
        "# Drop columns with null values\n",
        "# non_null_cols = non_object_cols.dropna(how='any')\n",
        "\n",
        "# Print the remaining columns\n",
        "# non_null_cols.info()\n",
        "\n",
        "# features = non_null_cols.columns.tolist()\n",
        "# features.remove( 'SalePrice' )\n",
        "# print(features)"
      ],
      "metadata": {
        "id": "XWRQEgGma55q"
      },
      "execution_count": null,
      "outputs": []
    },
    {
      "cell_type": "code",
      "source": [
        "# train_data.head()\n",
        "# train_data.describe()\n",
        "# train_data.columns\n",
        "# train_data.info()"
      ],
      "metadata": {
        "collapsed": true,
        "id": "x-D46PeN1xXc"
      },
      "execution_count": null,
      "outputs": []
    },
    {
      "cell_type": "code",
      "source": [
        "# features.remove( 'SalePrice' )\n",
        "# print(features)"
      ],
      "metadata": {
        "id": "nuT8r3EkmpL2"
      },
      "execution_count": null,
      "outputs": []
    },
    {
      "cell_type": "code",
      "source": [
        "featuresL = []\n",
        "for v in features:\n",
        "  if not train_data[v].dtypes == \"object\":\n",
        "    featuresL.append( v )"
      ],
      "metadata": {
        "id": "8K5sVS0npc93"
      },
      "execution_count": null,
      "outputs": []
    },
    {
      "cell_type": "code",
      "source": [
        "from sklearn.ensemble import HistGradientBoostingRegressor\n",
        "\n",
        "train_X, val_X, train_y, val_y = train_test_split(train_data[featuresL], train_data['SalePrice'], random_state=1)\n",
        "rf_model = HistGradientBoostingRegressor(random_state=1)\n",
        "rf_model.fit(train_X, train_y)\n",
        "\n",
        "rf_val_predictions = rf_model.predict(val_X)\n",
        "rf_val_mae = mean_absolute_error(val_y, rf_val_predictions)\n",
        "rf_val_mae"
      ],
      "metadata": {
        "id": "ENNdKFW6X9r3",
        "colab": {
          "base_uri": "https://localhost:8080/"
        },
        "outputId": "2bbf2549-059d-433d-f1ef-ffe798fd2a32"
      },
      "execution_count": null,
      "outputs": [
        {
          "output_type": "execute_result",
          "data": {
            "text/plain": [
              "15747.305176521093"
            ]
          },
          "metadata": {},
          "execution_count": 10
        }
      ]
    },
    {
      "cell_type": "code",
      "source": [
        "train_X, val_X, train_y, val_y = train_test_split(train_data[featuresL], train_data['SalePrice'], random_state=1)\n",
        "rf_model = RandomForestRegressor(n_estimators=100, random_state=1)\n",
        "rf_model.fit(train_X, train_y)\n",
        "\n",
        "rf_val_predictions = rf_model.predict(val_X)\n",
        "rf_val_mae = mean_absolute_error(val_y, rf_val_predictions)\n",
        "rf_val_mae"
      ],
      "metadata": {
        "id": "zftQHIXiZM6X"
      },
      "execution_count": null,
      "outputs": []
    },
    {
      "cell_type": "code",
      "source": [
        "# test_validation =  rf_model.predict(test_data[features])\n",
        "# test_validation =  rf_model.predict(test_data_all)\n",
        "test_validation =  rf_model.predict(test_data[featuresL])\n"
      ],
      "metadata": {
        "collapsed": true,
        "id": "m_bGT_fgQjH4"
      },
      "execution_count": null,
      "outputs": []
    },
    {
      "cell_type": "code",
      "source": [
        "rf_val_mae"
      ],
      "metadata": {
        "id": "l2ALviDeZ3YB"
      },
      "execution_count": null,
      "outputs": []
    },
    {
      "cell_type": "code",
      "source": [
        "submission = pd.DataFrame({'Id': test_data.Id, 'SalePrice': test_validation})\n",
        "submission.to_csv('submission.csv', index=False)"
      ],
      "metadata": {
        "id": "hxjcuC81RMHk"
      },
      "execution_count": null,
      "outputs": []
    },
    {
      "cell_type": "code",
      "source": [
        "# !kaggle competitions submit home-data-for-ml-course -f submission.csv -m \"First submission through the Google Colab!\""
      ],
      "metadata": {
        "id": "jr8DzrjxRqgY",
        "outputId": "e3482d22-081e-40a4-d3d9-ff61450d25cc",
        "colab": {
          "base_uri": "https://localhost:8080/"
        }
      },
      "execution_count": null,
      "outputs": [
        {
          "output_type": "stream",
          "name": "stdout",
          "text": [
            "100% 33.7k/33.7k [00:00<00:00, 116kB/s]\n",
            "Successfully submitted to Housing Prices Competition for Kaggle Learn Users"
          ]
        }
      ]
    }
  ]
}