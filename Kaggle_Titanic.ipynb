{
  "cells": [
    {
      "cell_type": "markdown",
      "metadata": {
        "id": "view-in-github",
        "colab_type": "text"
      },
      "source": [
        "<a href=\"https://colab.research.google.com/github/techisteps/KaggleCompetition/blob/main/Kaggle_Titanic.ipynb\" target=\"_parent\"><img src=\"https://colab.research.google.com/assets/colab-badge.svg\" alt=\"Open In Colab\"/></a>"
      ]
    },
    {
      "cell_type": "markdown",
      "metadata": {
        "id": "_oeke8x-VM1q"
      },
      "source": [
        "# Environment Setup"
      ]
    },
    {
      "cell_type": "code",
      "execution_count": 1,
      "metadata": {
        "colab": {
          "base_uri": "https://localhost:8080/",
          "height": 73
        },
        "id": "-J3NxtURKSAv",
        "outputId": "10cbaff2-907a-4af5-9529-137399b0ffb9"
      },
      "outputs": [
        {
          "output_type": "display_data",
          "data": {
            "text/plain": [
              "<IPython.core.display.HTML object>"
            ],
            "text/html": [
              "\n",
              "     <input type=\"file\" id=\"files-f5d6f799-4267-4233-b67a-6df31ab6ef2d\" name=\"files[]\" multiple disabled\n",
              "        style=\"border:none\" />\n",
              "     <output id=\"result-f5d6f799-4267-4233-b67a-6df31ab6ef2d\">\n",
              "      Upload widget is only available when the cell has been executed in the\n",
              "      current browser session. Please rerun this cell to enable.\n",
              "      </output>\n",
              "      <script>// Copyright 2017 Google LLC\n",
              "//\n",
              "// Licensed under the Apache License, Version 2.0 (the \"License\");\n",
              "// you may not use this file except in compliance with the License.\n",
              "// You may obtain a copy of the License at\n",
              "//\n",
              "//      http://www.apache.org/licenses/LICENSE-2.0\n",
              "//\n",
              "// Unless required by applicable law or agreed to in writing, software\n",
              "// distributed under the License is distributed on an \"AS IS\" BASIS,\n",
              "// WITHOUT WARRANTIES OR CONDITIONS OF ANY KIND, either express or implied.\n",
              "// See the License for the specific language governing permissions and\n",
              "// limitations under the License.\n",
              "\n",
              "/**\n",
              " * @fileoverview Helpers for google.colab Python module.\n",
              " */\n",
              "(function(scope) {\n",
              "function span(text, styleAttributes = {}) {\n",
              "  const element = document.createElement('span');\n",
              "  element.textContent = text;\n",
              "  for (const key of Object.keys(styleAttributes)) {\n",
              "    element.style[key] = styleAttributes[key];\n",
              "  }\n",
              "  return element;\n",
              "}\n",
              "\n",
              "// Max number of bytes which will be uploaded at a time.\n",
              "const MAX_PAYLOAD_SIZE = 100 * 1024;\n",
              "\n",
              "function _uploadFiles(inputId, outputId) {\n",
              "  const steps = uploadFilesStep(inputId, outputId);\n",
              "  const outputElement = document.getElementById(outputId);\n",
              "  // Cache steps on the outputElement to make it available for the next call\n",
              "  // to uploadFilesContinue from Python.\n",
              "  outputElement.steps = steps;\n",
              "\n",
              "  return _uploadFilesContinue(outputId);\n",
              "}\n",
              "\n",
              "// This is roughly an async generator (not supported in the browser yet),\n",
              "// where there are multiple asynchronous steps and the Python side is going\n",
              "// to poll for completion of each step.\n",
              "// This uses a Promise to block the python side on completion of each step,\n",
              "// then passes the result of the previous step as the input to the next step.\n",
              "function _uploadFilesContinue(outputId) {\n",
              "  const outputElement = document.getElementById(outputId);\n",
              "  const steps = outputElement.steps;\n",
              "\n",
              "  const next = steps.next(outputElement.lastPromiseValue);\n",
              "  return Promise.resolve(next.value.promise).then((value) => {\n",
              "    // Cache the last promise value to make it available to the next\n",
              "    // step of the generator.\n",
              "    outputElement.lastPromiseValue = value;\n",
              "    return next.value.response;\n",
              "  });\n",
              "}\n",
              "\n",
              "/**\n",
              " * Generator function which is called between each async step of the upload\n",
              " * process.\n",
              " * @param {string} inputId Element ID of the input file picker element.\n",
              " * @param {string} outputId Element ID of the output display.\n",
              " * @return {!Iterable<!Object>} Iterable of next steps.\n",
              " */\n",
              "function* uploadFilesStep(inputId, outputId) {\n",
              "  const inputElement = document.getElementById(inputId);\n",
              "  inputElement.disabled = false;\n",
              "\n",
              "  const outputElement = document.getElementById(outputId);\n",
              "  outputElement.innerHTML = '';\n",
              "\n",
              "  const pickedPromise = new Promise((resolve) => {\n",
              "    inputElement.addEventListener('change', (e) => {\n",
              "      resolve(e.target.files);\n",
              "    });\n",
              "  });\n",
              "\n",
              "  const cancel = document.createElement('button');\n",
              "  inputElement.parentElement.appendChild(cancel);\n",
              "  cancel.textContent = 'Cancel upload';\n",
              "  const cancelPromise = new Promise((resolve) => {\n",
              "    cancel.onclick = () => {\n",
              "      resolve(null);\n",
              "    };\n",
              "  });\n",
              "\n",
              "  // Wait for the user to pick the files.\n",
              "  const files = yield {\n",
              "    promise: Promise.race([pickedPromise, cancelPromise]),\n",
              "    response: {\n",
              "      action: 'starting',\n",
              "    }\n",
              "  };\n",
              "\n",
              "  cancel.remove();\n",
              "\n",
              "  // Disable the input element since further picks are not allowed.\n",
              "  inputElement.disabled = true;\n",
              "\n",
              "  if (!files) {\n",
              "    return {\n",
              "      response: {\n",
              "        action: 'complete',\n",
              "      }\n",
              "    };\n",
              "  }\n",
              "\n",
              "  for (const file of files) {\n",
              "    const li = document.createElement('li');\n",
              "    li.append(span(file.name, {fontWeight: 'bold'}));\n",
              "    li.append(span(\n",
              "        `(${file.type || 'n/a'}) - ${file.size} bytes, ` +\n",
              "        `last modified: ${\n",
              "            file.lastModifiedDate ? file.lastModifiedDate.toLocaleDateString() :\n",
              "                                    'n/a'} - `));\n",
              "    const percent = span('0% done');\n",
              "    li.appendChild(percent);\n",
              "\n",
              "    outputElement.appendChild(li);\n",
              "\n",
              "    const fileDataPromise = new Promise((resolve) => {\n",
              "      const reader = new FileReader();\n",
              "      reader.onload = (e) => {\n",
              "        resolve(e.target.result);\n",
              "      };\n",
              "      reader.readAsArrayBuffer(file);\n",
              "    });\n",
              "    // Wait for the data to be ready.\n",
              "    let fileData = yield {\n",
              "      promise: fileDataPromise,\n",
              "      response: {\n",
              "        action: 'continue',\n",
              "      }\n",
              "    };\n",
              "\n",
              "    // Use a chunked sending to avoid message size limits. See b/62115660.\n",
              "    let position = 0;\n",
              "    do {\n",
              "      const length = Math.min(fileData.byteLength - position, MAX_PAYLOAD_SIZE);\n",
              "      const chunk = new Uint8Array(fileData, position, length);\n",
              "      position += length;\n",
              "\n",
              "      const base64 = btoa(String.fromCharCode.apply(null, chunk));\n",
              "      yield {\n",
              "        response: {\n",
              "          action: 'append',\n",
              "          file: file.name,\n",
              "          data: base64,\n",
              "        },\n",
              "      };\n",
              "\n",
              "      let percentDone = fileData.byteLength === 0 ?\n",
              "          100 :\n",
              "          Math.round((position / fileData.byteLength) * 100);\n",
              "      percent.textContent = `${percentDone}% done`;\n",
              "\n",
              "    } while (position < fileData.byteLength);\n",
              "  }\n",
              "\n",
              "  // All done.\n",
              "  yield {\n",
              "    response: {\n",
              "      action: 'complete',\n",
              "    }\n",
              "  };\n",
              "}\n",
              "\n",
              "scope.google = scope.google || {};\n",
              "scope.google.colab = scope.google.colab || {};\n",
              "scope.google.colab._files = {\n",
              "  _uploadFiles,\n",
              "  _uploadFilesContinue,\n",
              "};\n",
              "})(self);\n",
              "</script> "
            ]
          },
          "metadata": {}
        },
        {
          "output_type": "stream",
          "name": "stdout",
          "text": [
            "Saving kaggle.json to kaggle.json\n"
          ]
        }
      ],
      "source": [
        "from google.colab import files\n",
        "uploaded = files.upload()"
      ]
    },
    {
      "cell_type": "code",
      "execution_count": 2,
      "metadata": {
        "colab": {
          "base_uri": "https://localhost:8080/"
        },
        "id": "9HmZvt1JLFdG",
        "outputId": "626c35b8-20c5-4b72-a8bf-cc24b60a2f6e"
      },
      "outputs": [
        {
          "output_type": "stream",
          "name": "stdout",
          "text": [
            "Downloading titanic.zip to /content\n",
            "\r  0% 0.00/34.1k [00:00<?, ?B/s]\n",
            "\r100% 34.1k/34.1k [00:00<00:00, 8.52MB/s]\n",
            "Archive:  titanic.zip\n",
            "  inflating: gender_submission.csv   \n",
            "  inflating: test.csv                \n",
            "  inflating: train.csv               \n"
          ]
        }
      ],
      "source": [
        "!mkdir -p ~/.kaggle\n",
        "!cp kaggle.json ~/.kaggle/\n",
        "!chmod 600 ~/.kaggle/kaggle.json\n",
        "!kaggle competitions download -c titanic\n",
        "!unzip titanic.zip"
      ]
    },
    {
      "cell_type": "markdown",
      "metadata": {
        "id": "kQXJMIizVSPC"
      },
      "source": [
        "## Import libraries and data"
      ]
    },
    {
      "cell_type": "code",
      "execution_count": 3,
      "metadata": {
        "id": "Xs_qThZ4LRUo"
      },
      "outputs": [],
      "source": [
        "import pandas as pd\n",
        "import numpy as np\n",
        "import matplotlib.pyplot as plt\n",
        "import seaborn as sns"
      ]
    },
    {
      "cell_type": "code",
      "execution_count": 4,
      "metadata": {
        "id": "mgyWBT0GLdAx"
      },
      "outputs": [],
      "source": [
        "train_data = pd.read_csv('train.csv')\n",
        "test_data = pd.read_csv('test.csv')\n",
        "train_label = train_data[\"Survived\"]\n",
        "train_data.drop(\"Survived\", axis=1, inplace=True)"
      ]
    },
    {
      "cell_type": "code",
      "execution_count": null,
      "metadata": {
        "colab": {
          "base_uri": "https://localhost:8080/"
        },
        "collapsed": true,
        "id": "-AjRv6ioLvgL",
        "outputId": "02636113-f2fb-4b77-b413-dd29defa1e99"
      },
      "outputs": [
        {
          "data": {
            "text/plain": [
              "int64      5\n",
              "object     5\n",
              "float64    2\n",
              "Name: count, dtype: int64"
            ]
          },
          "execution_count": 47,
          "metadata": {},
          "output_type": "execute_result"
        }
      ],
      "source": [
        "train_data.dtypes\n",
        "train_data.dtypes.value_counts()"
      ]
    },
    {
      "cell_type": "markdown",
      "metadata": {
        "id": "0I3cpF9yVZ6q"
      },
      "source": [
        "# Analysis"
      ]
    },
    {
      "cell_type": "code",
      "execution_count": 5,
      "metadata": {
        "colab": {
          "base_uri": "https://localhost:8080/"
        },
        "id": "JnX1iL-GQhDL",
        "outputId": "bf0ce8e8-cdbf-40b5-e744-e9621d02b162"
      },
      "outputs": [
        {
          "output_type": "stream",
          "name": "stdout",
          "text": [
            "features_num is: Index(['PassengerId', 'Pclass', 'Age', 'SibSp', 'Parch', 'Fare'], dtype='object')\n",
            "features_obj is: Index(['Name', 'Sex', 'Ticket', 'Cabin', 'Embarked'], dtype='object')\n"
          ]
        }
      ],
      "source": [
        "features_num = train_data.select_dtypes(include=[np.number]).columns\n",
        "features_obj = train_data.select_dtypes(exclude=[np.number]).columns\n",
        "\n",
        "print(f\"features_num is: {features_num}\")\n",
        "print(f\"features_obj is: {features_obj}\")"
      ]
    },
    {
      "cell_type": "code",
      "execution_count": null,
      "metadata": {
        "colab": {
          "base_uri": "https://localhost:8080/"
        },
        "collapsed": true,
        "id": "1a4MYygObvPk",
        "outputId": "cd26c245-1f10-4611-81f2-a55bc7760e16"
      },
      "outputs": [
        {
          "output_type": "execute_result",
          "data": {
            "text/plain": [
              "Ticket\n",
              "              661\n",
              "PC             60\n",
              "CA             41\n",
              "A/             25\n",
              "STON/O         18\n",
              "SOTON/OQ       15\n",
              "W/C            10\n",
              "SC/PARIS        7\n",
              "FCC             5\n",
              "C               5\n",
              "SOC             5\n",
              "SC/Paris        4\n",
              "LINE            4\n",
              "SO/PP           3\n",
              "A               3\n",
              "PP              3\n",
              "SC/AH           2\n",
              "SOTON/O         2\n",
              "WE/P            2\n",
              "SW/PP           2\n",
              "P/PP            2\n",
              "FC              1\n",
              "SC/AHBasle      1\n",
              "A/S             1\n",
              "SP              1\n",
              "SC              1\n",
              "SCO/W           1\n",
              "Fa              1\n",
              "SOP             1\n",
              "WEP             1\n",
              "SC/A            1\n",
              "SO/C            1\n",
              "CA/SOTON        1\n",
              "Name: count, dtype: int64"
            ]
          },
          "metadata": {},
          "execution_count": 88
        }
      ],
      "source": [
        "train_data[\"Ticket\"].str.extractall(r'(\\d+)')\n",
        "tmp = train_data[\"Ticket\"].str.extractall(r'(\\D+)').replace(r'^\\d+', '', regex=True).replace(r'/', '', regex=True).replace(r'\\.', '', regex=True)\n",
        "tmp = train_data[\"Ticket\"].str.replace(r'\\d+', '', regex=True).replace(r'\\.', '', regex=True).replace(r' ', '', regex=True)\n",
        "# tmp.columns = [\"Ticket\"]\n",
        "# tmp[\"Ticket\"].unique()\n",
        "tmp.value_counts()\n",
        "# type(tmp)\n",
        "\n",
        "# train_data[\"Ticket\"].unique()\n"
      ]
    },
    {
      "cell_type": "markdown",
      "metadata": {
        "id": "z3nINY32U-0s"
      },
      "source": [
        "## Feature Creation"
      ]
    },
    {
      "cell_type": "markdown",
      "metadata": {
        "id": "6WH-6xMXVxl_"
      },
      "source": [
        "### Feature PassengerId"
      ]
    },
    {
      "cell_type": "code",
      "execution_count": 6,
      "metadata": {
        "collapsed": true,
        "id": "Mwxoqm6sV-cI"
      },
      "outputs": [],
      "source": [
        "## PassengerId is a sequence number thus doest have much waitage for training. we also can not drop this column as test data will come with this column.\n",
        "## Best option will be to keep a constant value in this column 0 or 1.\n",
        "\n",
        "feature_PassengerId = train_data[\"PassengerId\"].copy()\n",
        "feature_PassengerId = feature_PassengerId.map(lambda x: 0)\n",
        "# feature_PassengerId\n",
        "# train_data\n",
        "# type(feature_PassengerId)\n",
        "\n",
        "# def featureMK_PassengerId(df: pd.DataFrame):\n",
        "#   feature_PassengerId = train_data[[\"PassengerId\"]].copy()\n",
        "#   feature_PassengerId = feature_PassengerId.map(lambda x: 0)\n",
        "#   return feature_PassengerId"
      ]
    },
    {
      "cell_type": "code",
      "execution_count": null,
      "metadata": {
        "colab": {
          "base_uri": "https://localhost:8080/",
          "height": 35
        },
        "id": "hNQy_U6haSFR",
        "outputId": "96191e93-faef-4ab5-ab61-798a4efd38a6"
      },
      "outputs": [
        {
          "data": {
            "application/vnd.google.colaboratory.intrinsic+json": {
              "type": "string"
            },
            "text/plain": [
              "'2.0.3'"
            ]
          },
          "execution_count": 122,
          "metadata": {},
          "output_type": "execute_result"
        }
      ],
      "source": [
        "# tmp = featureMK_PassengerId(train_data)\n",
        "# type(tmp)\n",
        "pd.__version__"
      ]
    },
    {
      "cell_type": "markdown",
      "metadata": {
        "id": "hhpuhazBVuVw"
      },
      "source": [
        "### Feature Age"
      ]
    },
    {
      "cell_type": "code",
      "execution_count": 7,
      "metadata": {
        "collapsed": true,
        "id": "suCTcPniTFHJ"
      },
      "outputs": [],
      "source": [
        "# train_data.isna().sum()\n",
        "  # train_data['Age'].isna().sum()\n",
        "# train_data.fillna(train_data[\"Age\"].mean(), inplace=True)\n",
        "\n",
        "def featureMK_Age(df: pd.DataFrame):\n",
        "  # feature_Age = df.fillna(df[\"Age\"].mean())[\"Age\"]\n",
        "  # return feature_Age\n",
        "\n",
        "  meanage = df[['Age', 'Sex', 'Pclass']].groupby(['Sex', 'Pclass']).mean()\n",
        "  # feature_Age = df[['Sex', 'Pclass']].merge(meanage, on=['Sex', 'Pclass'], how='left').fillna(df['Age'])['Age']\n",
        "  feature_Age = df[['Sex', 'Pclass']].merge(meanage, on=['Sex', 'Pclass'], how='left')\n",
        "  return feature_Age['Age']\n",
        "\n",
        "# featureMK_Age(train_data)\n",
        "# featureMK_Age(test_data)\n",
        "\n",
        "# train_data['Age'].isna().sum()\n",
        "# feature_Age = train_data.fillna(train_data[\"Age\"].mean())[\"Age\"]\n",
        "\n",
        "\n",
        "# train_data.columns\n",
        "# type(featureMK_Age(train_data))"
      ]
    },
    {
      "cell_type": "markdown",
      "metadata": {
        "id": "hhjbPwJsYjbn"
      },
      "source": [
        "### Feature Sex"
      ]
    },
    {
      "cell_type": "code",
      "execution_count": 8,
      "metadata": {
        "collapsed": true,
        "id": "vh0qHs7bYmmk"
      },
      "outputs": [],
      "source": [
        "# train_data[\"Sex\"].isna().sum()\n",
        "\n",
        "def featureMK_Sex(df: pd.DataFrame):\n",
        "  feature_Sex = df[[\"Sex\"]].copy()\n",
        "  feature_Sex[\"Male\"] = df[\"Sex\"].map(lambda x: 0 if x == \"male\" else 1)\n",
        "  feature_Sex[\"Female\"] = df[\"Sex\"].map(lambda x: 0 if x == \"female\" else 1)\n",
        "  # type(feature_Sex)\n",
        "  feature_Sex.drop(columns=[\"Sex\"], axis=1, inplace=True)\n",
        "  return feature_Sex\n",
        "\n",
        "# featureMK_Sex(train_data)\n",
        "# featureMK_Sex(test_data)\n",
        "\n",
        "# feature_Sex = train_data[[\"Sex\"]].copy()\n",
        "# feature_Sex[\"Male\"] = train_data[\"Sex\"].map(lambda x: 0 if x == \"male\" else 1)\n",
        "# feature_Sex[\"Female\"] = train_data[\"Sex\"].map(lambda x: 0 if x == \"female\" else 1)\n",
        "# type(feature_Sex)\n",
        "# feature_Sex.drop(columns=[\"Sex\"], axis=1, inplace=True)\n",
        "# feature_Sex"
      ]
    },
    {
      "cell_type": "markdown",
      "metadata": {
        "id": "C6LazEzBcA4E"
      },
      "source": [
        "### Feature Pclass"
      ]
    },
    {
      "cell_type": "code",
      "execution_count": 9,
      "metadata": {
        "collapsed": true,
        "id": "NuodM_dCcEgg"
      },
      "outputs": [],
      "source": [
        "# train_data[\"Pclass\"].unique()\n",
        "\n",
        "def featureMK_Pclass(df: pd.DataFrame):\n",
        "  feature_Pclass = df[[\"Pclass\"]].copy()\n",
        "  feature_Pclass[\"Pclass1\"] = df[\"Pclass\"].map(lambda x: 1 if x == 1 else 0)\n",
        "  feature_Pclass[\"Pclass2\"] = df[\"Pclass\"].map(lambda x: 1 if x == 2 else 0)\n",
        "  feature_Pclass[\"Pclass3\"] = df[\"Pclass\"].map(lambda x: 1 if x == 3 else 0)\n",
        "  feature_Pclass.drop(columns=[\"Pclass\"], axis=1, inplace=True)\n",
        "  return feature_Pclass\n",
        "\n",
        "# feature_Pclass = train_data[[\"Pclass\"]].copy()\n",
        "# feature_Pclass[\"Pclass1\"] = train_data[\"Pclass\"].map(lambda x: 1 if x == 1 else 0)\n",
        "# feature_Pclass[\"Pclass2\"] = train_data[\"Pclass\"].map(lambda x: 2 if x == 2 else 0)\n",
        "# feature_Pclass[\"Pclass3\"] = train_data[\"Pclass\"].map(lambda x: 3 if x == 3 else 0)\n",
        "# type(feature_Pclass)\n",
        "# feature_Pclass.drop(columns=[\"Pclass\"], axis=1, inplace=True)\n",
        "# feature_Pclass"
      ]
    },
    {
      "cell_type": "markdown",
      "metadata": {
        "id": "tRKZWHLXenec"
      },
      "source": [
        "### Feature Fare"
      ]
    },
    {
      "cell_type": "code",
      "execution_count": 10,
      "metadata": {
        "collapsed": true,
        "id": "pB27wyF2eq-b",
        "colab": {
          "base_uri": "https://localhost:8080/"
        },
        "outputId": "52460df9-b741-42a6-bf3a-ee117cd3695c"
      },
      "outputs": [
        {
          "output_type": "execute_result",
          "data": {
            "text/plain": [
              "Fare    float64\n",
              "dtype: object"
            ]
          },
          "metadata": {},
          "execution_count": 10
        }
      ],
      "source": [
        "import math\n",
        "import pandas as pd\n",
        "from sklearn.preprocessing import MinMaxScaler, Normalizer\n",
        "# train_data[\"Fare\"].map(lambda x: math.log(x+1))\n",
        "\n",
        "def featureMK_Fare(df: pd.DataFrame):\n",
        "  # feature_Fare = df[\"Fare\"].map(lambda x: math.log(x+1))\n",
        "  # return feature_Fare\n",
        "\n",
        "  x = df[\"Fare\"] #returns a numpy array\n",
        "  # min_max_scaler = MinMaxScaler()\n",
        "  # x_scaled = min_max_scaler.fit_transform([x])\n",
        "  # dfx = pd.DataFrame(x_scaled)\n",
        "  # dfx\n",
        "\n",
        "  norm = Normalizer()\n",
        "  x_norm = norm.fit_transform([x])\n",
        "  dfx = pd.DataFrame(x_norm).T\n",
        "  dfx.columns = [\"Fare\"]\n",
        "  return dfx\n",
        "\n",
        "# feature_Fare = train_data[\"Fare\"].map(lambda x: math.log(x+1))\n",
        "# feature_Fare\n",
        "\n",
        "\n",
        "tmp = featureMK_Fare(train_data)\n",
        "type(tmp)\n",
        "tmp.dtypes\n"
      ]
    },
    {
      "cell_type": "markdown",
      "metadata": {
        "id": "rA_NY2OygyLa"
      },
      "source": [
        "### Feature Embarked"
      ]
    },
    {
      "cell_type": "code",
      "execution_count": 11,
      "metadata": {
        "collapsed": true,
        "id": "bZFSlNGDg1ZV"
      },
      "outputs": [],
      "source": [
        "\n",
        "def featureMK_Embarked(df: pd.DataFrame):\n",
        "  feature_Embarked = df[[\"Embarked\"]].copy()\n",
        "  feature_Embarked[\"Embarked_S\"] = df[\"Embarked\"].map(lambda x: 1 if x == \"S\" else 0)\n",
        "  feature_Embarked[\"Embarked_C\"] = df[\"Embarked\"].map(lambda x: 1 if x == \"C\" else 0)\n",
        "  feature_Embarked[\"Embarked_Q\"] = df[\"Embarked\"].map(lambda x: 1 if x == \"Q\" else 0)\n",
        "  feature_Embarked.drop(columns=[\"Embarked\"], axis=1, inplace=True)\n",
        "  return feature_Embarked\n",
        "\n",
        "# feature_Embarked = train_data[[\"Embarked\"]].copy()\n",
        "# feature_Embarked[\"Embarked_S\"] = train_data[\"Embarked\"].map(lambda x: 1 if x == \"S\" else 0)\n",
        "# feature_Embarked[\"Embarked_C\"] = train_data[\"Embarked\"].map(lambda x: 1 if x == \"C\" else 0)\n",
        "# feature_Embarked[\"Embarked_Q\"] = train_data[\"Embarked\"].map(lambda x: 1 if x == \"Q\" else 0)\n",
        "# type(feature_Embarked)\n",
        "# feature_Embarked.drop(columns=[\"Embarked\"], axis=1, inplace=True)\n",
        "# feature_Embarked"
      ]
    },
    {
      "cell_type": "markdown",
      "metadata": {
        "id": "HXxNTNjskQC3"
      },
      "source": [
        "### Feature Cabin"
      ]
    },
    {
      "cell_type": "code",
      "execution_count": 12,
      "metadata": {
        "id": "q_OBgaJIkR3n"
      },
      "outputs": [],
      "source": [
        "# train_data.duplicated(subset=[\"Cabin\"]).to_numpy()\n",
        "# train_data[\"Cabin\"].loc[train_data.duplicated(subset=[\"Cabin\"])].to_frame()\n",
        "# train_data[\"Cabin\"].map(lambda x: str(x)[0]).unique()\n",
        "\n",
        "def featureMK_Cabin(df: pd.DataFrame):\n",
        "  feature_Cabin = df[[\"Cabin\"]].copy()\n",
        "  feature_Cabin[\"CabinA\"] = df[\"Cabin\"].map(lambda x: 1 if str(x)[0] == 'A' else 0)\n",
        "  feature_Cabin[\"CabinB\"] = df[\"Cabin\"].map(lambda x: 1 if str(x)[0] == 'B' else 0)\n",
        "  feature_Cabin[\"CabinC\"] = df[\"Cabin\"].map(lambda x: 1 if str(x)[0] == 'C' else 0)\n",
        "  feature_Cabin[\"CabinD\"] = df[\"Cabin\"].map(lambda x: 1 if str(x)[0] == 'D' else 0)\n",
        "  feature_Cabin[\"CabinE\"] = df[\"Cabin\"].map(lambda x: 1 if str(x)[0] == 'E' else 0)\n",
        "  feature_Cabin[\"CabinF\"] = df[\"Cabin\"].map(lambda x: 1 if str(x)[0] == 'F' else 0)\n",
        "  feature_Cabin[\"CabinG\"] = df[\"Cabin\"].map(lambda x: 1 if str(x)[0] == 'G' else 0)\n",
        "  feature_Cabin[\"CabinT\"] = df[\"Cabin\"].map(lambda x: 1 if str(x)[0] == 'T' else 0)\n",
        "  feature_Cabin.drop(columns=[\"Cabin\"], axis=1, inplace=True)\n",
        "\n",
        "# feature_Cabin = train_data[[\"Cabin\"]].copy()\n",
        "# feature_Cabin[\"CabinA\"] = train_data[\"Cabin\"].map(lambda x: 1 if str(x)[0] == 'A' else 0)\n",
        "# feature_Cabin[\"CabinB\"] = train_data[\"Cabin\"].map(lambda x: 1 if str(x)[0] == 'B' else 0)\n",
        "# feature_Cabin[\"CabinC\"] = train_data[\"Cabin\"].map(lambda x: 1 if str(x)[0] == 'C' else 0)\n",
        "# feature_Cabin[\"CabinD\"] = train_data[\"Cabin\"].map(lambda x: 1 if str(x)[0] == 'D' else 0)\n",
        "# feature_Cabin[\"CabinE\"] = train_data[\"Cabin\"].map(lambda x: 1 if str(x)[0] == 'E' else 0)\n",
        "# feature_Cabin[\"CabinF\"] = train_data[\"Cabin\"].map(lambda x: 1 if str(x)[0] == 'F' else 0)\n",
        "# feature_Cabin[\"CabinG\"] = train_data[\"Cabin\"].map(lambda x: 1 if str(x)[0] == 'G' else 0)\n",
        "# feature_Cabin[\"CabinT\"] = train_data[\"Cabin\"].map(lambda x: 1 if str(x)[0] == 'T' else 0)\n",
        "# feature_Cabin.drop(columns=[\"Cabin\"], axis=1, inplace=True)\n",
        "# type(feature_Cabin)\n",
        "# feature_Cabin"
      ]
    },
    {
      "cell_type": "markdown",
      "metadata": {
        "id": "zQI-W05JVB-7"
      },
      "source": [
        "## Feature Selection"
      ]
    },
    {
      "cell_type": "code",
      "execution_count": 13,
      "metadata": {
        "id": "9HAqnkrXYLVz",
        "colab": {
          "base_uri": "https://localhost:8080/"
        },
        "outputId": "fefe3d14-a77e-44e2-8b2f-84bf6a532038"
      },
      "outputs": [
        {
          "output_type": "execute_result",
          "data": {
            "text/plain": [
              "PassengerId      int64\n",
              "Age            float64\n",
              "Male             int64\n",
              "Female           int64\n",
              "Pclass1          int64\n",
              "Pclass2          int64\n",
              "Pclass3          int64\n",
              "Fare           float64\n",
              "SibSp            int64\n",
              "Parch            int64\n",
              "Embarked_S       int64\n",
              "Embarked_C       int64\n",
              "Embarked_Q       int64\n",
              "dtype: object"
            ]
          },
          "metadata": {},
          "execution_count": 13
        }
      ],
      "source": [
        "## TODO : Convert feature generation for functions returing series or DF\n",
        "\n",
        "# train_data_in = pd.concat([feature_PassengerId, feature_Age, feature_Sex, feature_Pclass, feature_Fare, train_data['SibSp'], train_data['Parch'], feature_Embarked, feature_Cabin], axis=1)\n",
        "train_data_in = pd.concat([feature_PassengerId, featureMK_Age(train_data), featureMK_Sex(train_data), featureMK_Pclass(train_data), featureMK_Fare(train_data), train_data['SibSp'], train_data['Parch'], featureMK_Embarked(train_data), featureMK_Cabin(train_data)], axis=1)\n",
        "# train_data_in = pd.concat([train_data_in, train_data['SibSp'], train_data['Parch']], axis=1)\n",
        "\n",
        "# test_data_in = pd.concat([test_data['PassengerId'], featureMK_Age(test_data), featureMK_Sex(test_data), featureMK_Pclass(test_data), featureMK_Fare(test_data), test_data['SibSp'], test_data['Parch'], featureMK_Embarked(test_data), featureMK_Cabin(test_data)], axis=1)\n",
        "\n",
        "\n",
        "# test_data_in = test_data[features_num]\n",
        "# test_data_in = test_data[[\"PassengerId\", \"Age\"]]\n",
        "train_data_in.dtypes"
      ]
    },
    {
      "cell_type": "code",
      "execution_count": 27,
      "metadata": {
        "colab": {
          "base_uri": "https://localhost:8080/"
        },
        "id": "eGcmV4GzPyLH",
        "outputId": "48811bed-10a5-4f7d-ed92-ee43f801e88a"
      },
      "outputs": [
        {
          "output_type": "stream",
          "name": "stdout",
          "text": [
            "score:  0.81\n",
            "accuracy_score:  0.81\n",
            "f1_score:  0.811\n"
          ]
        }
      ],
      "source": [
        "from sklearn.ensemble import RandomForestClassifier, GradientBoostingClassifier\n",
        "from sklearn.model_selection import train_test_split, GridSearchCV\n",
        "from sklearn.metrics import f1_score, accuracy_score\n",
        "from sklearn.neural_network import MLPClassifier\n",
        "\n",
        "\n",
        "# train_data_in = train_data[features_num]\n",
        "# test_data_in = test_data[features_num]\n",
        "\n",
        "train_X, test_X, train_y, test_y = train_test_split(train_data_in, train_label, test_size=0.2, random_state=0)\n",
        "\n",
        "# clf_rf = RandomForestClassifier(random_state=0, class_weight='balanced')\n",
        "# clf_rf = RandomForestClassifier(random_state=0, class_weight={'3': '0', '4': '1'})\n",
        "# clf_rf = GradientBoostingClassifier(random_state=0)\n",
        "clf_rf = MLPClassifier(\n",
        "      hidden_layer_sizes=(500,), activation='logistic', solver='sgd', alpha=0.0001, batch_size='auto', learning_rate='constant',\n",
        "      learning_rate_init=0.01, power_t=0.5, max_iter=2000, shuffle=True, random_state=1, tol=0.0001, verbose=False, warm_start=False,\n",
        "      momentum=0.5, nesterovs_momentum=True, early_stopping=False, validation_fraction=0.1, beta_1=0.9, beta_2=0.999, epsilon=1e-08, n_iter_no_change=10, max_fun=15000)\n",
        "\n",
        "clf_rf.fit(train_X, train_y)\n",
        "print( \"score: \", round( clf_rf.score(test_X, test_y) ,3) )\n",
        "preds = clf_rf.predict(test_X)\n",
        "print( \"accuracy_score: \", round( accuracy_score(test_y, preds) ,3) )\n",
        "print( \"f1_score: \",round( f1_score(test_y, preds, average='weighted') , 3) )\n",
        "\n",
        "# preds = clf_rf.predict(test_data_in)\n",
        "\n",
        "\n"
      ]
    },
    {
      "cell_type": "code",
      "source": [
        "train_X_v1, test_X_v1, train_y_v1, test_y_v1 = train_X, test_X, train_y, test_y\n",
        "\n",
        "train_X_v1.var()\n"
      ],
      "metadata": {
        "colab": {
          "base_uri": "https://localhost:8080/"
        },
        "id": "Jwkox71gSuZ4",
        "outputId": "e1ee3498-3693-480a-fc09-8c1da18ee690"
      },
      "execution_count": null,
      "outputs": [
        {
          "output_type": "execute_result",
          "data": {
            "text/plain": [
              "PassengerId     0.000000\n",
              "Age            35.064444\n",
              "Male            0.226882\n",
              "Female          0.226882\n",
              "Pclass1         0.182011\n",
              "Pclass2         0.163237\n",
              "Pclass3         0.247191\n",
              "Fare            0.000805\n",
              "SibSp           1.301520\n",
              "Parch           0.674645\n",
              "Embarked_S      0.199148\n",
              "Embarked_C      0.148562\n",
              "Embarked_Q      0.081923\n",
              "dtype: float64"
            ]
          },
          "metadata": {},
          "execution_count": 98
        }
      ]
    },
    {
      "cell_type": "code",
      "execution_count": 44,
      "metadata": {
        "colab": {
          "base_uri": "https://localhost:8080/"
        },
        "collapsed": true,
        "id": "KwXZH_pQlfP_",
        "outputId": "c718722b-ebc9-4a62-b9b2-f3637905a2f4"
      },
      "outputs": [
        {
          "output_type": "stream",
          "name": "stdout",
          "text": [
            "Fitting 3 folds for each of 1 candidates, totalling 3 fits\n",
            "[CV 1/3] END activation=tanh, alpha=0.0001, batch_size=auto, beta_1=0.9, beta_2=0.999, early_stopping=False, epsilon=1e-08, hidden_layer_sizes=(600,), learning_rate=constant, learning_rate_init=0.001, max_fun=15000, max_iter=2000, momentum=0.9, n_iter_no_change=10, nesterovs_momentum=True, power_t=0.5, random_state=1, shuffle=True, solver=sgd, tol=0.0001, validation_fraction=0.1, verbose=False, warm_start=False; accuracy: (test=0.761) f1: (test=0.685) total time=  10.3s\n",
            "[CV 2/3] END activation=tanh, alpha=0.0001, batch_size=auto, beta_1=0.9, beta_2=0.999, early_stopping=False, epsilon=1e-08, hidden_layer_sizes=(600,), learning_rate=constant, learning_rate_init=0.001, max_fun=15000, max_iter=2000, momentum=0.9, n_iter_no_change=10, nesterovs_momentum=True, power_t=0.5, random_state=1, shuffle=True, solver=sgd, tol=0.0001, validation_fraction=0.1, verbose=False, warm_start=False; accuracy: (test=0.810) f1: (test=0.734) total time=  11.5s\n",
            "[CV 3/3] END activation=tanh, alpha=0.0001, batch_size=auto, beta_1=0.9, beta_2=0.999, early_stopping=False, epsilon=1e-08, hidden_layer_sizes=(600,), learning_rate=constant, learning_rate_init=0.001, max_fun=15000, max_iter=2000, momentum=0.9, n_iter_no_change=10, nesterovs_momentum=True, power_t=0.5, random_state=1, shuffle=True, solver=sgd, tol=0.0001, validation_fraction=0.1, verbose=False, warm_start=False; accuracy: (test=0.814) f1: (test=0.738) total time=   8.1s\n"
          ]
        },
        {
          "output_type": "stream",
          "name": "stderr",
          "text": [
            "/usr/local/lib/python3.10/dist-packages/sklearn/neural_network/_multilayer_perceptron.py:686: ConvergenceWarning: Stochastic Optimizer: Maximum iterations (200) reached and the optimization hasn't converged yet.\n",
            "  warnings.warn(\n"
          ]
        },
        {
          "output_type": "execute_result",
          "data": {
            "text/plain": [
              "0.8100558659217877"
            ]
          },
          "metadata": {},
          "execution_count": 44
        }
      ],
      "source": [
        "from sklearn.ensemble import RandomForestClassifier, AdaBoostClassifier, GradientBoostingClassifier, HistGradientBoostingClassifier\n",
        "from sklearn.neighbors import KNeighborsClassifier\n",
        "from sklearn.tree import DecisionTreeClassifier\n",
        "from sklearn.semi_supervised import LabelPropagation\n",
        "from sklearn.neural_network import MLPClassifier\n",
        "from sklearn.metrics import mean_absolute_error, mean_squared_error, r2_score\n",
        "\n",
        "rf_search_space = {\n",
        "    \"n_estimators\": [100, 200, 300],\n",
        "    \"criterion\": [\"gini\", \"entropy\", \"log_loss\"],\n",
        "    \"max_depth\": [2, 5, 7],\n",
        "    # \"gamma\": [0.01, 0.1],\n",
        "    # \"learning_rate\": [0.001, 0.01, 0.1, 1]\n",
        "}\n",
        "\n",
        "ada_search_space = {\n",
        "    \"n_estimators\": [100, 200, 300, 500],\n",
        "    \"max_depth\": [2, 5, 7],\n",
        "    # \"gamma\": [0.01, 0.1],\n",
        "    \"learning_rate\": [0.001, 0.01, 0.1, 1]\n",
        "}\n",
        "\n",
        "gb_search_space = {\n",
        "    \"n_estimators\": [100, 200, 300],\n",
        "    \"criterion\": [\"friedman_mse\", \"squared_error\"],\n",
        "    \"max_depth\": [2, 5, 7],\n",
        "    # \"gamma\": [0.01, 0.1],\n",
        "    \"learning_rate\": [0.001, 0.01, 0.1, 1]\n",
        "}\n",
        "\n",
        "hgbr_search_space = {\n",
        "    # \"loss\": [\"squared_error\", \"absolute_error\"],\n",
        "    \"learning_rate\": [0.001, 0.01, 0.1, 1],\n",
        "    \"max_iter\": [100, 200, 300],\n",
        "    \"max_depth\": [2, 5, 7],\n",
        "}\n",
        "\n",
        "kn_search_space = {\n",
        "    # \"loss\": [\"squared_error\", \"absolute_error\"],\n",
        "    \"learning_rate\": [0.001, 0.01, 0.1, 1],\n",
        "    \"max_iter\": [100, 200, 300],\n",
        "    \"max_depth\": [2, 5, 7],\n",
        "}\n",
        "\n",
        "dt_search_space = {\n",
        "    # \"loss\": [\"squared_error\", \"absolute_error\"],\n",
        "    \"learning_rate\": [0.001, 0.01, 0.1, 1],\n",
        "    \"max_iter\": [100, 200, 300],\n",
        "    \"max_depth\": [2, 5, 7],\n",
        "}\n",
        "\n",
        "lp_search_space = {\n",
        "    # \"loss\": [\"squared_error\", \"absolute_error\"],\n",
        "    \"learning_rate\": [0.001, 0.01, 0.1, 1],\n",
        "    \"max_iter\": [100, 200, 300],\n",
        "    \"max_depth\": [2, 5, 7],\n",
        "}\n",
        "\n",
        "MLP_search_space = {\n",
        "    \"hidden_layer_sizes\": [(600,)],\n",
        "    \"activation\" : [\"tanh\"],\n",
        "    \"solver\" : ['sgd'],\n",
        "    \"alpha\" : [0.0001],\n",
        "    \"batch_size\" : ['auto'],\n",
        "    \"learning_rate\" : ['constant'],\n",
        "    \"learning_rate_init\" : [0.001],\n",
        "    \"power_t\" : [0.5],\n",
        "    \"max_iter\" : [2000],\n",
        "    \"shuffle\" : [True],\n",
        "    \"random_state\" : [1],\n",
        "    \"tol\" : [0.0001],\n",
        "    \"verbose\" : [False],\n",
        "    \"warm_start\" : [False],\n",
        "    \"momentum\" : [0.9],\n",
        "    \"nesterovs_momentum\" : [True],\n",
        "    \"early_stopping\" : [False],\n",
        "    \"validation_fraction\" : [0.1],\n",
        "    \"beta_1\" : [0.9],\n",
        "    \"beta_2\" : [0.999],\n",
        "    \"epsilon\" : [1e-08],\n",
        "    \"n_iter_no_change\" : [10],\n",
        "    \"max_fun\" : [15000]\n",
        "\n",
        "}\n",
        "\n",
        "model_search_space = MLP_search_space\n",
        "modelVar = MLPClassifier()\n",
        "\n",
        "GS = GridSearchCV(estimator= modelVar, param_grid= model_search_space, cv=3, scoring=[\"accuracy\",\"f1\"], refit=\"f1\", verbose=4, error_score='raise')\n",
        "GS.fit(train_X, train_y)\n",
        "GS.best_params_\n",
        "\n",
        "modelVar.fit(train_X, train_y)\n",
        "pred_y = modelVar.predict(test_X)\n",
        "modelVar.score(test_X, test_y)"
      ]
    },
    {
      "cell_type": "code",
      "execution_count": 43,
      "metadata": {
        "colab": {
          "base_uri": "https://localhost:8080/"
        },
        "id": "ajX23gohnEI6",
        "outputId": "7a2809df-95e0-4650-c1cf-901339ff629d"
      },
      "outputs": [
        {
          "output_type": "execute_result",
          "data": {
            "text/plain": [
              "{'activation': 'tanh',\n",
              " 'alpha': 0.0001,\n",
              " 'batch_size': 'auto',\n",
              " 'beta_1': 0.9,\n",
              " 'beta_2': 0.999,\n",
              " 'early_stopping': False,\n",
              " 'epsilon': 1e-08,\n",
              " 'hidden_layer_sizes': (600,),\n",
              " 'learning_rate': 'constant',\n",
              " 'learning_rate_init': 0.001,\n",
              " 'max_fun': 15000,\n",
              " 'max_iter': 2000,\n",
              " 'momentum': 0.9,\n",
              " 'n_iter_no_change': 10,\n",
              " 'nesterovs_momentum': True,\n",
              " 'power_t': 0.5,\n",
              " 'random_state': 1,\n",
              " 'shuffle': True,\n",
              " 'solver': 'sgd',\n",
              " 'tol': 0.0001,\n",
              " 'validation_fraction': 0.1,\n",
              " 'verbose': False,\n",
              " 'warm_start': False}"
            ]
          },
          "metadata": {},
          "execution_count": 43
        }
      ],
      "source": [
        "modelVar.score(test_X, test_y)\n",
        "GS.best_params_"
      ]
    },
    {
      "cell_type": "code",
      "source": [
        "from sklearn.metrics import confusion_matrix\n",
        "modelVar = RandomForestClassifier()\n",
        "\n",
        "modelVar.fit(train_X, train_y)\n",
        "pred_y = modelVar.predict(test_X)\n",
        "modelVar.score(test_X, test_y)\n",
        "confusion_matrix(test_y, pred_y)"
      ],
      "metadata": {
        "colab": {
          "base_uri": "https://localhost:8080/"
        },
        "id": "qN6gNIAMUBnW",
        "outputId": "8719a70d-6dae-4af5-b600-0544aecc186c"
      },
      "execution_count": 61,
      "outputs": [
        {
          "output_type": "execute_result",
          "data": {
            "text/plain": [
              "array([[94, 16],\n",
              "       [13, 56]])"
            ]
          },
          "metadata": {},
          "execution_count": 61
        }
      ]
    },
    {
      "cell_type": "markdown",
      "source": [
        "## lazypredict"
      ],
      "metadata": {
        "id": "NXbSf-vMpkvD"
      }
    },
    {
      "cell_type": "code",
      "source": [
        "!pip install lazypredict-nightly"
      ],
      "metadata": {
        "colab": {
          "base_uri": "https://localhost:8080/"
        },
        "id": "omCjkIt3ivIS",
        "outputId": "e15766b8-4bbb-4059-ea35-daf937d28822",
        "collapsed": true
      },
      "execution_count": null,
      "outputs": [
        {
          "output_type": "stream",
          "name": "stdout",
          "text": [
            "Collecting lazypredict-nightly\n",
            "  Downloading lazypredict_nightly-0.3.2-py2.py3-none-any.whl (11 kB)\n",
            "Requirement already satisfied: click in /usr/local/lib/python3.10/dist-packages (from lazypredict-nightly) (8.1.7)\n",
            "Requirement already satisfied: scikit-learn in /usr/local/lib/python3.10/dist-packages (from lazypredict-nightly) (1.2.2)\n",
            "Requirement already satisfied: pandas in /usr/local/lib/python3.10/dist-packages (from lazypredict-nightly) (2.0.3)\n",
            "Requirement already satisfied: tqdm in /usr/local/lib/python3.10/dist-packages (from lazypredict-nightly) (4.66.4)\n",
            "Requirement already satisfied: joblib in /usr/local/lib/python3.10/dist-packages (from lazypredict-nightly) (1.4.2)\n",
            "Requirement already satisfied: lightgbm in /usr/local/lib/python3.10/dist-packages (from lazypredict-nightly) (4.1.0)\n",
            "Requirement already satisfied: xgboost in /usr/local/lib/python3.10/dist-packages (from lazypredict-nightly) (2.0.3)\n",
            "Collecting markupsafe<=2.1.4 (from lazypredict-nightly)\n",
            "  Downloading MarkupSafe-2.1.4-cp310-cp310-manylinux_2_17_x86_64.manylinux2014_x86_64.whl (25 kB)\n",
            "Requirement already satisfied: numpy in /usr/local/lib/python3.10/dist-packages (from lightgbm->lazypredict-nightly) (1.25.2)\n",
            "Requirement already satisfied: scipy in /usr/local/lib/python3.10/dist-packages (from lightgbm->lazypredict-nightly) (1.11.4)\n",
            "Requirement already satisfied: python-dateutil>=2.8.2 in /usr/local/lib/python3.10/dist-packages (from pandas->lazypredict-nightly) (2.8.2)\n",
            "Requirement already satisfied: pytz>=2020.1 in /usr/local/lib/python3.10/dist-packages (from pandas->lazypredict-nightly) (2023.4)\n",
            "Requirement already satisfied: tzdata>=2022.1 in /usr/local/lib/python3.10/dist-packages (from pandas->lazypredict-nightly) (2024.1)\n",
            "Requirement already satisfied: threadpoolctl>=2.0.0 in /usr/local/lib/python3.10/dist-packages (from scikit-learn->lazypredict-nightly) (3.5.0)\n",
            "Requirement already satisfied: six>=1.5 in /usr/local/lib/python3.10/dist-packages (from python-dateutil>=2.8.2->pandas->lazypredict-nightly) (1.16.0)\n",
            "Installing collected packages: markupsafe, lazypredict-nightly\n",
            "  Attempting uninstall: markupsafe\n",
            "    Found existing installation: MarkupSafe 2.1.5\n",
            "    Uninstalling MarkupSafe-2.1.5:\n",
            "      Successfully uninstalled MarkupSafe-2.1.5\n",
            "\u001b[31mERROR: pip's dependency resolver does not currently take into account all the packages that are installed. This behaviour is the source of the following dependency conflicts.\n",
            "torch 2.3.0+cu121 requires nvidia-cublas-cu12==12.1.3.1; platform_system == \"Linux\" and platform_machine == \"x86_64\", which is not installed.\n",
            "torch 2.3.0+cu121 requires nvidia-cuda-cupti-cu12==12.1.105; platform_system == \"Linux\" and platform_machine == \"x86_64\", which is not installed.\n",
            "torch 2.3.0+cu121 requires nvidia-cuda-nvrtc-cu12==12.1.105; platform_system == \"Linux\" and platform_machine == \"x86_64\", which is not installed.\n",
            "torch 2.3.0+cu121 requires nvidia-cuda-runtime-cu12==12.1.105; platform_system == \"Linux\" and platform_machine == \"x86_64\", which is not installed.\n",
            "torch 2.3.0+cu121 requires nvidia-cudnn-cu12==8.9.2.26; platform_system == \"Linux\" and platform_machine == \"x86_64\", which is not installed.\n",
            "torch 2.3.0+cu121 requires nvidia-cufft-cu12==11.0.2.54; platform_system == \"Linux\" and platform_machine == \"x86_64\", which is not installed.\n",
            "torch 2.3.0+cu121 requires nvidia-curand-cu12==10.3.2.106; platform_system == \"Linux\" and platform_machine == \"x86_64\", which is not installed.\n",
            "torch 2.3.0+cu121 requires nvidia-cusolver-cu12==11.4.5.107; platform_system == \"Linux\" and platform_machine == \"x86_64\", which is not installed.\n",
            "torch 2.3.0+cu121 requires nvidia-cusparse-cu12==12.1.0.106; platform_system == \"Linux\" and platform_machine == \"x86_64\", which is not installed.\n",
            "torch 2.3.0+cu121 requires nvidia-nccl-cu12==2.20.5; platform_system == \"Linux\" and platform_machine == \"x86_64\", which is not installed.\n",
            "torch 2.3.0+cu121 requires nvidia-nvtx-cu12==12.1.105; platform_system == \"Linux\" and platform_machine == \"x86_64\", which is not installed.\u001b[0m\u001b[31m\n",
            "\u001b[0mSuccessfully installed lazypredict-nightly-0.3.2 markupsafe-2.1.4\n"
          ]
        }
      ]
    },
    {
      "cell_type": "code",
      "source": [
        "from lazypredict import LazyClassifier\n",
        "\n",
        "from sklearn.datasets import load_breast_cancer\n",
        "from sklearn.model_selection import train_test_split\n",
        "\n",
        "# data = load_breast_cancer()\n",
        "# X = data.data\n",
        "# y= data.target\n",
        "\n",
        "# train_X, test_X, train_y, test_y\n",
        "# X_train, X_test, y_train, y_test = train_test_split(X, y,test_size=.5,random_state =123)\n",
        "\n",
        "clf = LazyClassifier(verbose=0,ignore_warnings=True, custom_metric=None)\n",
        "models,predictions = clf.fit(train_X, test_X, train_y, test_y)\n",
        "\n",
        "print(models)\n",
        "print(predictions)"
      ],
      "metadata": {
        "colab": {
          "base_uri": "https://localhost:8080/"
        },
        "collapsed": true,
        "id": "ph_YVQOgi17d",
        "outputId": "0ef0fc9e-e59d-47ca-d80e-3e73c04a0e54"
      },
      "execution_count": null,
      "outputs": [
        {
          "output_type": "stream",
          "name": "stderr",
          "text": [
            "100%|██████████| 29/29 [00:01<00:00, 16.29it/s]"
          ]
        },
        {
          "output_type": "stream",
          "name": "stdout",
          "text": [
            "[LightGBM] [Info] Number of positive: 273, number of negative: 439\n",
            "[LightGBM] [Info] Auto-choosing row-wise multi-threading, the overhead of testing was 0.000414 seconds.\n",
            "You can set `force_row_wise=true` to remove the overhead.\n",
            "And if memory is not enough, you can set `force_col_wise=true`.\n",
            "[LightGBM] [Info] Total Bins 164\n",
            "[LightGBM] [Info] Number of data points in the train set: 712, number of used features: 12\n",
            "[LightGBM] [Info] [binary:BoostFromScore]: pavg=0.383427 -> initscore=-0.475028\n",
            "[LightGBM] [Info] Start training from score -0.475028\n",
            "[LightGBM] [Warning] No further splits with positive gain, best gain: -inf\n",
            "[LightGBM] [Warning] No further splits with positive gain, best gain: -inf\n",
            "[LightGBM] [Warning] No further splits with positive gain, best gain: -inf\n",
            "[LightGBM] [Warning] No further splits with positive gain, best gain: -inf\n",
            "[LightGBM] [Warning] No further splits with positive gain, best gain: -inf\n",
            "[LightGBM] [Warning] No further splits with positive gain, best gain: -inf\n",
            "[LightGBM] [Warning] No further splits with positive gain, best gain: -inf\n",
            "[LightGBM] [Warning] No further splits with positive gain, best gain: -inf\n",
            "[LightGBM] [Warning] No further splits with positive gain, best gain: -inf\n",
            "[LightGBM] [Warning] No further splits with positive gain, best gain: -inf\n",
            "[LightGBM] [Warning] No further splits with positive gain, best gain: -inf\n",
            "[LightGBM] [Warning] No further splits with positive gain, best gain: -inf\n",
            "[LightGBM] [Warning] No further splits with positive gain, best gain: -inf\n",
            "[LightGBM] [Warning] No further splits with positive gain, best gain: -inf\n",
            "[LightGBM] [Warning] No further splits with positive gain, best gain: -inf\n",
            "[LightGBM] [Warning] No further splits with positive gain, best gain: -inf\n",
            "[LightGBM] [Warning] No further splits with positive gain, best gain: -inf\n",
            "[LightGBM] [Warning] No further splits with positive gain, best gain: -inf\n",
            "[LightGBM] [Warning] No further splits with positive gain, best gain: -inf\n",
            "[LightGBM] [Warning] No further splits with positive gain, best gain: -inf\n",
            "[LightGBM] [Warning] No further splits with positive gain, best gain: -inf\n",
            "[LightGBM] [Warning] No further splits with positive gain, best gain: -inf\n",
            "[LightGBM] [Warning] No further splits with positive gain, best gain: -inf\n",
            "[LightGBM] [Warning] No further splits with positive gain, best gain: -inf\n",
            "[LightGBM] [Warning] No further splits with positive gain, best gain: -inf\n",
            "[LightGBM] [Warning] No further splits with positive gain, best gain: -inf\n",
            "[LightGBM] [Warning] No further splits with positive gain, best gain: -inf\n",
            "[LightGBM] [Warning] No further splits with positive gain, best gain: -inf\n",
            "[LightGBM] [Warning] No further splits with positive gain, best gain: -inf\n",
            "[LightGBM] [Warning] No further splits with positive gain, best gain: -inf\n",
            "[LightGBM] [Warning] No further splits with positive gain, best gain: -inf\n",
            "[LightGBM] [Warning] No further splits with positive gain, best gain: -inf\n",
            "[LightGBM] [Warning] No further splits with positive gain, best gain: -inf\n",
            "[LightGBM] [Warning] No further splits with positive gain, best gain: -inf\n",
            "[LightGBM] [Warning] No further splits with positive gain, best gain: -inf\n",
            "[LightGBM] [Warning] No further splits with positive gain, best gain: -inf\n",
            "[LightGBM] [Warning] No further splits with positive gain, best gain: -inf\n",
            "[LightGBM] [Warning] No further splits with positive gain, best gain: -inf\n",
            "[LightGBM] [Warning] No further splits with positive gain, best gain: -inf\n",
            "[LightGBM] [Warning] No further splits with positive gain, best gain: -inf\n",
            "[LightGBM] [Warning] No further splits with positive gain, best gain: -inf\n",
            "[LightGBM] [Warning] No further splits with positive gain, best gain: -inf\n",
            "[LightGBM] [Warning] No further splits with positive gain, best gain: -inf\n",
            "[LightGBM] [Warning] No further splits with positive gain, best gain: -inf\n",
            "[LightGBM] [Warning] No further splits with positive gain, best gain: -inf\n",
            "[LightGBM] [Warning] No further splits with positive gain, best gain: -inf\n",
            "[LightGBM] [Warning] No further splits with positive gain, best gain: -inf\n",
            "[LightGBM] [Warning] No further splits with positive gain, best gain: -inf\n",
            "[LightGBM] [Warning] No further splits with positive gain, best gain: -inf\n",
            "[LightGBM] [Warning] No further splits with positive gain, best gain: -inf\n",
            "[LightGBM] [Warning] No further splits with positive gain, best gain: -inf\n",
            "[LightGBM] [Warning] No further splits with positive gain, best gain: -inf\n",
            "[LightGBM] [Warning] No further splits with positive gain, best gain: -inf\n",
            "[LightGBM] [Warning] No further splits with positive gain, best gain: -inf\n",
            "[LightGBM] [Warning] No further splits with positive gain, best gain: -inf\n",
            "[LightGBM] [Warning] No further splits with positive gain, best gain: -inf\n",
            "[LightGBM] [Warning] No further splits with positive gain, best gain: -inf\n",
            "[LightGBM] [Warning] No further splits with positive gain, best gain: -inf\n",
            "[LightGBM] [Warning] No further splits with positive gain, best gain: -inf\n",
            "[LightGBM] [Warning] No further splits with positive gain, best gain: -inf\n",
            "[LightGBM] [Warning] No further splits with positive gain, best gain: -inf\n",
            "[LightGBM] [Warning] No further splits with positive gain, best gain: -inf\n",
            "[LightGBM] [Warning] No further splits with positive gain, best gain: -inf\n",
            "[LightGBM] [Warning] No further splits with positive gain, best gain: -inf\n",
            "[LightGBM] [Warning] No further splits with positive gain, best gain: -inf\n",
            "[LightGBM] [Warning] No further splits with positive gain, best gain: -inf\n",
            "[LightGBM] [Warning] No further splits with positive gain, best gain: -inf\n",
            "[LightGBM] [Warning] No further splits with positive gain, best gain: -inf\n",
            "[LightGBM] [Warning] No further splits with positive gain, best gain: -inf\n",
            "[LightGBM] [Warning] No further splits with positive gain, best gain: -inf\n",
            "[LightGBM] [Warning] No further splits with positive gain, best gain: -inf\n",
            "[LightGBM] [Warning] No further splits with positive gain, best gain: -inf\n",
            "[LightGBM] [Warning] No further splits with positive gain, best gain: -inf\n",
            "[LightGBM] [Warning] No further splits with positive gain, best gain: -inf\n",
            "[LightGBM] [Warning] No further splits with positive gain, best gain: -inf\n",
            "[LightGBM] [Warning] No further splits with positive gain, best gain: -inf\n",
            "[LightGBM] [Warning] No further splits with positive gain, best gain: -inf\n",
            "[LightGBM] [Warning] No further splits with positive gain, best gain: -inf\n",
            "[LightGBM] [Warning] No further splits with positive gain, best gain: -inf\n",
            "[LightGBM] [Warning] No further splits with positive gain, best gain: -inf\n",
            "[LightGBM] [Warning] No further splits with positive gain, best gain: -inf\n",
            "[LightGBM] [Warning] No further splits with positive gain, best gain: -inf\n",
            "[LightGBM] [Warning] No further splits with positive gain, best gain: -inf\n",
            "[LightGBM] [Warning] No further splits with positive gain, best gain: -inf\n",
            "[LightGBM] [Warning] No further splits with positive gain, best gain: -inf\n",
            "[LightGBM] [Warning] No further splits with positive gain, best gain: -inf\n",
            "[LightGBM] [Warning] No further splits with positive gain, best gain: -inf\n",
            "[LightGBM] [Warning] No further splits with positive gain, best gain: -inf\n",
            "[LightGBM] [Warning] No further splits with positive gain, best gain: -inf\n",
            "[LightGBM] [Warning] No further splits with positive gain, best gain: -inf\n",
            "[LightGBM] [Warning] No further splits with positive gain, best gain: -inf\n",
            "[LightGBM] [Warning] No further splits with positive gain, best gain: -inf\n",
            "[LightGBM] [Warning] No further splits with positive gain, best gain: -inf\n",
            "[LightGBM] [Warning] No further splits with positive gain, best gain: -inf\n",
            "[LightGBM] [Warning] No further splits with positive gain, best gain: -inf\n",
            "[LightGBM] [Warning] No further splits with positive gain, best gain: -inf\n",
            "[LightGBM] [Warning] No further splits with positive gain, best gain: -inf\n",
            "[LightGBM] [Warning] No further splits with positive gain, best gain: -inf\n",
            "[LightGBM] [Warning] No further splits with positive gain, best gain: -inf\n",
            "[LightGBM] [Warning] No further splits with positive gain, best gain: -inf\n",
            "                               Accuracy  Balanced Accuracy  ROC AUC  F1 Score  \\\n",
            "Model                                                                           \n",
            "RandomForestClassifier             0.84               0.83     0.83      0.84   \n",
            "KNeighborsClassifier               0.84               0.82     0.82      0.84   \n",
            "DecisionTreeClassifier             0.84               0.82     0.82      0.84   \n",
            "AdaBoostClassifier                 0.84               0.82     0.82      0.84   \n",
            "LabelPropagation                   0.84               0.81     0.81      0.83   \n",
            "BaggingClassifier                  0.83               0.81     0.81      0.83   \n",
            "ExtraTreeClassifier                0.82               0.81     0.81      0.82   \n",
            "ExtraTreesClassifier               0.82               0.81     0.81      0.82   \n",
            "LabelSpreading                     0.83               0.81     0.81      0.83   \n",
            "LGBMClassifier                     0.82               0.81     0.81      0.82   \n",
            "XGBClassifier                      0.82               0.80     0.80      0.82   \n",
            "NearestCentroid                    0.79               0.79     0.79      0.79   \n",
            "GaussianNB                         0.79               0.79     0.79      0.79   \n",
            "BernoulliNB                        0.79               0.79     0.79      0.79   \n",
            "NuSVC                              0.82               0.78     0.78      0.81   \n",
            "SVC                                0.82               0.78     0.78      0.81   \n",
            "LinearSVC                          0.80               0.78     0.78      0.80   \n",
            "LogisticRegression                 0.80               0.78     0.78      0.80   \n",
            "CalibratedClassifierCV             0.80               0.78     0.78      0.80   \n",
            "RidgeClassifier                    0.79               0.78     0.78      0.79   \n",
            "RidgeClassifierCV                  0.79               0.78     0.78      0.79   \n",
            "LinearDiscriminantAnalysis         0.79               0.78     0.78      0.79   \n",
            "PassiveAggressiveClassifier        0.78               0.77     0.77      0.78   \n",
            "Perceptron                         0.79               0.76     0.76      0.79   \n",
            "SGDClassifier                      0.75               0.75     0.75      0.75   \n",
            "DummyClassifier                    0.61               0.50     0.50      0.47   \n",
            "QuadraticDiscriminantAnalysis      0.61               0.50     0.50      0.47   \n",
            "\n",
            "                               Time Taken  \n",
            "Model                                      \n",
            "RandomForestClassifier               0.20  \n",
            "KNeighborsClassifier                 0.03  \n",
            "DecisionTreeClassifier               0.02  \n",
            "AdaBoostClassifier                   0.12  \n",
            "LabelPropagation                     0.06  \n",
            "BaggingClassifier                    0.05  \n",
            "ExtraTreeClassifier                  0.02  \n",
            "ExtraTreesClassifier                 0.17  \n",
            "LabelSpreading                       0.09  \n",
            "LGBMClassifier                       0.15  \n",
            "XGBClassifier                        0.10  \n",
            "NearestCentroid                      0.03  \n",
            "GaussianNB                           0.02  \n",
            "BernoulliNB                          0.02  \n",
            "NuSVC                                0.07  \n",
            "SVC                                  0.05  \n",
            "LinearSVC                            0.08  \n",
            "LogisticRegression                   0.03  \n",
            "CalibratedClassifierCV               0.20  \n",
            "RidgeClassifier                      0.03  \n",
            "RidgeClassifierCV                    0.03  \n",
            "LinearDiscriminantAnalysis           0.05  \n",
            "PassiveAggressiveClassifier          0.02  \n",
            "Perceptron                           0.02  \n",
            "SGDClassifier                        0.03  \n",
            "DummyClassifier                      0.02  \n",
            "QuadraticDiscriminantAnalysis        0.03  \n"
          ]
        },
        {
          "output_type": "stream",
          "name": "stderr",
          "text": [
            "\n"
          ]
        }
      ]
    },
    {
      "cell_type": "code",
      "source": [
        "# print(models)\n",
        "plt.figure(figsize=(10, 5))\n",
        "sns.set_theme(style=\"whitegrid\")\n",
        "# sns.barplot(x=models.index, y=models['Accuracy'])\n",
        "ax = sns.barplot(y=models.index, x=models['Accuracy'])\n",
        "plt.xticks(rotation=90)\n",
        "plt.show()"
      ],
      "metadata": {
        "colab": {
          "base_uri": "https://localhost:8080/",
          "height": 483
        },
        "id": "SR6yP4hXl0dc",
        "outputId": "f65b8870-5bc9-468d-83a5-beb141fdd9be"
      },
      "execution_count": null,
      "outputs": [
        {
          "output_type": "display_data",
          "data": {
            "text/plain": [
              "<Figure size 1000x500 with 1 Axes>"
            ],
            "image/png": "[encoded data removed]"
          },
          "metadata": {}
        }
      ]
    },
    {
      "cell_type": "markdown",
      "metadata": {
        "id": "dVlfOxjASsO_"
      },
      "source": [
        "# EDA"
      ]
    },
    {
      "cell_type": "code",
      "execution_count": null,
      "metadata": {
        "id": "iN71Tv1GSzOA"
      },
      "outputs": [],
      "source": [
        "train_data = pd.read_csv('train.csv')\n",
        "test_data = pd.read_csv('test.csv')"
      ]
    }
  ],
  "metadata": {
    "colab": {
      "toc_visible": true,
      "provenance": [],
      "authorship_tag": "ABX9TyNnGn9WDMbTyd9JlMm0McM4",
      "include_colab_link": true
    },
    "kernelspec": {
      "display_name": "Python 3",
      "name": "python3"
    },
    "language_info": {
      "name": "python"
    }
  },
  "nbformat": 4,
  "nbformat_minor": 0
}