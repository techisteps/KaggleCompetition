{
  "nbformat": 4,
  "nbformat_minor": 0,
  "metadata": {
    "colab": {
      "provenance": [],
      "authorship_tag": "ABX9TyPyq5FOu/7T9+ZML0bqU/1A",
      "include_colab_link": true
    },
    "kernelspec": {
      "name": "python3",
      "display_name": "Python 3"
    },
    "language_info": {
      "name": "python"
    }
  },
  "cells": [
    {
      "cell_type": "markdown",
      "metadata": {
        "id": "view-in-github",
        "colab_type": "text"
      },
      "source": [
        "<a href=\"https://colab.research.google.com/github/techisteps/KaggleCompetition/blob/main/Kaggle_Housing_Prices_data_handling.ipynb\" target=\"_parent\"><img src=\"https://colab.research.google.com/assets/colab-badge.svg\" alt=\"Open In Colab\"/></a>"
      ]
    },
    {
      "cell_type": "code",
      "execution_count": 1,
      "metadata": {
        "colab": {
          "base_uri": "https://localhost:8080/",
          "height": 73
        },
        "id": "F42B9LsEgcPB",
        "outputId": "07295234-b7f9-41cc-da5f-c05f033d4644"
      },
      "outputs": [
        {
          "output_type": "display_data",
          "data": {
            "text/plain": [
              "<IPython.core.display.HTML object>"
            ],
            "text/html": [
              "\n",
              "     <input type=\"file\" id=\"files-cb482877-c344-4091-b2ca-34f7c4b719d4\" name=\"files[]\"  disabled\n",
              "        style=\"border:none\" />\n",
              "     <output id=\"result-cb482877-c344-4091-b2ca-34f7c4b719d4\">\n",
              "      Upload widget is only available when the cell has been executed in the\n",
              "      current browser session. Please rerun this cell to enable.\n",
              "      </output>\n",
              "      <script>// Copyright 2017 Google LLC\n",
              "//\n",
              "// Licensed under the Apache License, Version 2.0 (the \"License\");\n",
              "// you may not use this file except in compliance with the License.\n",
              "// You may obtain a copy of the License at\n",
              "//\n",
              "//      http://www.apache.org/licenses/LICENSE-2.0\n",
              "//\n",
              "// Unless required by applicable law or agreed to in writing, software\n",
              "// distributed under the License is distributed on an \"AS IS\" BASIS,\n",
              "// WITHOUT WARRANTIES OR CONDITIONS OF ANY KIND, either express or implied.\n",
              "// See the License for the specific language governing permissions and\n",
              "// limitations under the License.\n",
              "\n",
              "/**\n",
              " * @fileoverview Helpers for google.colab Python module.\n",
              " */\n",
              "(function(scope) {\n",
              "function span(text, styleAttributes = {}) {\n",
              "  const element = document.createElement('span');\n",
              "  element.textContent = text;\n",
              "  for (const key of Object.keys(styleAttributes)) {\n",
              "    element.style[key] = styleAttributes[key];\n",
              "  }\n",
              "  return element;\n",
              "}\n",
              "\n",
              "// Max number of bytes which will be uploaded at a time.\n",
              "const MAX_PAYLOAD_SIZE = 100 * 1024;\n",
              "\n",
              "function _uploadFiles(inputId, outputId) {\n",
              "  const steps = uploadFilesStep(inputId, outputId);\n",
              "  const outputElement = document.getElementById(outputId);\n",
              "  // Cache steps on the outputElement to make it available for the next call\n",
              "  // to uploadFilesContinue from Python.\n",
              "  outputElement.steps = steps;\n",
              "\n",
              "  return _uploadFilesContinue(outputId);\n",
              "}\n",
              "\n",
              "// This is roughly an async generator (not supported in the browser yet),\n",
              "// where there are multiple asynchronous steps and the Python side is going\n",
              "// to poll for completion of each step.\n",
              "// This uses a Promise to block the python side on completion of each step,\n",
              "// then passes the result of the previous step as the input to the next step.\n",
              "function _uploadFilesContinue(outputId) {\n",
              "  const outputElement = document.getElementById(outputId);\n",
              "  const steps = outputElement.steps;\n",
              "\n",
              "  const next = steps.next(outputElement.lastPromiseValue);\n",
              "  return Promise.resolve(next.value.promise).then((value) => {\n",
              "    // Cache the last promise value to make it available to the next\n",
              "    // step of the generator.\n",
              "    outputElement.lastPromiseValue = value;\n",
              "    return next.value.response;\n",
              "  });\n",
              "}\n",
              "\n",
              "/**\n",
              " * Generator function which is called between each async step of the upload\n",
              " * process.\n",
              " * @param {string} inputId Element ID of the input file picker element.\n",
              " * @param {string} outputId Element ID of the output display.\n",
              " * @return {!Iterable<!Object>} Iterable of next steps.\n",
              " */\n",
              "function* uploadFilesStep(inputId, outputId) {\n",
              "  const inputElement = document.getElementById(inputId);\n",
              "  inputElement.disabled = false;\n",
              "\n",
              "  const outputElement = document.getElementById(outputId);\n",
              "  outputElement.innerHTML = '';\n",
              "\n",
              "  const pickedPromise = new Promise((resolve) => {\n",
              "    inputElement.addEventListener('change', (e) => {\n",
              "      resolve(e.target.files);\n",
              "    });\n",
              "  });\n",
              "\n",
              "  const cancel = document.createElement('button');\n",
              "  inputElement.parentElement.appendChild(cancel);\n",
              "  cancel.textContent = 'Cancel upload';\n",
              "  const cancelPromise = new Promise((resolve) => {\n",
              "    cancel.onclick = () => {\n",
              "      resolve(null);\n",
              "    };\n",
              "  });\n",
              "\n",
              "  // Wait for the user to pick the files.\n",
              "  const files = yield {\n",
              "    promise: Promise.race([pickedPromise, cancelPromise]),\n",
              "    response: {\n",
              "      action: 'starting',\n",
              "    }\n",
              "  };\n",
              "\n",
              "  cancel.remove();\n",
              "\n",
              "  // Disable the input element since further picks are not allowed.\n",
              "  inputElement.disabled = true;\n",
              "\n",
              "  if (!files) {\n",
              "    return {\n",
              "      response: {\n",
              "        action: 'complete',\n",
              "      }\n",
              "    };\n",
              "  }\n",
              "\n",
              "  for (const file of files) {\n",
              "    const li = document.createElement('li');\n",
              "    li.append(span(file.name, {fontWeight: 'bold'}));\n",
              "    li.append(span(\n",
              "        `(${file.type || 'n/a'}) - ${file.size} bytes, ` +\n",
              "        `last modified: ${\n",
              "            file.lastModifiedDate ? file.lastModifiedDate.toLocaleDateString() :\n",
              "                                    'n/a'} - `));\n",
              "    const percent = span('0% done');\n",
              "    li.appendChild(percent);\n",
              "\n",
              "    outputElement.appendChild(li);\n",
              "\n",
              "    const fileDataPromise = new Promise((resolve) => {\n",
              "      const reader = new FileReader();\n",
              "      reader.onload = (e) => {\n",
              "        resolve(e.target.result);\n",
              "      };\n",
              "      reader.readAsArrayBuffer(file);\n",
              "    });\n",
              "    // Wait for the data to be ready.\n",
              "    let fileData = yield {\n",
              "      promise: fileDataPromise,\n",
              "      response: {\n",
              "        action: 'continue',\n",
              "      }\n",
              "    };\n",
              "\n",
              "    // Use a chunked sending to avoid message size limits. See b/62115660.\n",
              "    let position = 0;\n",
              "    do {\n",
              "      const length = Math.min(fileData.byteLength - position, MAX_PAYLOAD_SIZE);\n",
              "      const chunk = new Uint8Array(fileData, position, length);\n",
              "      position += length;\n",
              "\n",
              "      const base64 = btoa(String.fromCharCode.apply(null, chunk));\n",
              "      yield {\n",
              "        response: {\n",
              "          action: 'append',\n",
              "          file: file.name,\n",
              "          data: base64,\n",
              "        },\n",
              "      };\n",
              "\n",
              "      let percentDone = fileData.byteLength === 0 ?\n",
              "          100 :\n",
              "          Math.round((position / fileData.byteLength) * 100);\n",
              "      percent.textContent = `${percentDone}% done`;\n",
              "\n",
              "    } while (position < fileData.byteLength);\n",
              "  }\n",
              "\n",
              "  // All done.\n",
              "  yield {\n",
              "    response: {\n",
              "      action: 'complete',\n",
              "    }\n",
              "  };\n",
              "}\n",
              "\n",
              "scope.google = scope.google || {};\n",
              "scope.google.colab = scope.google.colab || {};\n",
              "scope.google.colab._files = {\n",
              "  _uploadFiles,\n",
              "  _uploadFilesContinue,\n",
              "};\n",
              "})(self);\n",
              "</script> "
            ]
          },
          "metadata": {}
        },
        {
          "output_type": "stream",
          "name": "stdout",
          "text": [
            "Saved kaggle.json to /content/kaggle.json\n"
          ]
        }
      ],
      "source": [
        "from google.colab import files\n",
        "files.upload_file(filename = \"kaggle.json\")"
      ]
    },
    {
      "cell_type": "code",
      "source": [
        "!mkdir ~/.kaggle\n",
        "!cp /content/kaggle.json ~/.kaggle/ && chmod 600 /root/.kaggle/kaggle.json\n",
        "!rm /content/kaggle.json\n",
        "!ls -lrt ~/.kaggle\n",
        "!ls -lrt /content"
      ],
      "metadata": {
        "colab": {
          "base_uri": "https://localhost:8080/"
        },
        "id": "fuLILfTTh2tI",
        "outputId": "8449e283-0699-4ea4-e9bb-cf271b780ab3"
      },
      "execution_count": 2,
      "outputs": [
        {
          "output_type": "stream",
          "name": "stdout",
          "text": [
            "total 4\n",
            "-rw------- 1 root root 69 May 22 10:19 kaggle.json\n",
            "total 4\n",
            "drwxr-xr-x 1 root root 4096 May 20 13:25 sample_data\n"
          ]
        }
      ]
    },
    {
      "cell_type": "code",
      "source": [
        "#!pip uninstall -y pandas scikit-learn\n",
        "!pip list | grep -e pandas -e scikit-learn -e kaggle\n",
        "!pip install kaggle pandas scikit-learn"
      ],
      "metadata": {
        "colab": {
          "base_uri": "https://localhost:8080/"
        },
        "id": "ROcBrLwihp9j",
        "outputId": "2419efe3-1a15-4213-d558-29dcba56859d"
      },
      "execution_count": 3,
      "outputs": [
        {
          "output_type": "stream",
          "name": "stdout",
          "text": [
            "geopandas                        0.13.2\n",
            "kaggle                           1.6.14\n",
            "kagglehub                        0.2.5\n",
            "pandas                           2.0.3\n",
            "pandas-datareader                0.10.0\n",
            "pandas-gbq                       0.19.2\n",
            "pandas-stubs                     2.0.3.230814\n",
            "scikit-learn                     1.2.2\n",
            "sklearn-pandas                   2.2.0\n",
            "Requirement already satisfied: kaggle in /usr/local/lib/python3.10/dist-packages (1.6.14)\n",
            "Requirement already satisfied: pandas in /usr/local/lib/python3.10/dist-packages (2.0.3)\n",
            "Requirement already satisfied: scikit-learn in /usr/local/lib/python3.10/dist-packages (1.2.2)\n",
            "Requirement already satisfied: six>=1.10 in /usr/local/lib/python3.10/dist-packages (from kaggle) (1.16.0)\n",
            "Requirement already satisfied: certifi>=2023.7.22 in /usr/local/lib/python3.10/dist-packages (from kaggle) (2024.2.2)\n",
            "Requirement already satisfied: python-dateutil in /usr/local/lib/python3.10/dist-packages (from kaggle) (2.8.2)\n",
            "Requirement already satisfied: requests in /usr/local/lib/python3.10/dist-packages (from kaggle) (2.31.0)\n",
            "Requirement already satisfied: tqdm in /usr/local/lib/python3.10/dist-packages (from kaggle) (4.66.4)\n",
            "Requirement already satisfied: python-slugify in /usr/local/lib/python3.10/dist-packages (from kaggle) (8.0.4)\n",
            "Requirement already satisfied: urllib3 in /usr/local/lib/python3.10/dist-packages (from kaggle) (2.0.7)\n",
            "Requirement already satisfied: bleach in /usr/local/lib/python3.10/dist-packages (from kaggle) (6.1.0)\n",
            "Requirement already satisfied: pytz>=2020.1 in /usr/local/lib/python3.10/dist-packages (from pandas) (2023.4)\n",
            "Requirement already satisfied: tzdata>=2022.1 in /usr/local/lib/python3.10/dist-packages (from pandas) (2024.1)\n",
            "Requirement already satisfied: numpy>=1.21.0 in /usr/local/lib/python3.10/dist-packages (from pandas) (1.25.2)\n",
            "Requirement already satisfied: scipy>=1.3.2 in /usr/local/lib/python3.10/dist-packages (from scikit-learn) (1.11.4)\n",
            "Requirement already satisfied: joblib>=1.1.1 in /usr/local/lib/python3.10/dist-packages (from scikit-learn) (1.4.2)\n",
            "Requirement already satisfied: threadpoolctl>=2.0.0 in /usr/local/lib/python3.10/dist-packages (from scikit-learn) (3.5.0)\n",
            "Requirement already satisfied: webencodings in /usr/local/lib/python3.10/dist-packages (from bleach->kaggle) (0.5.1)\n",
            "Requirement already satisfied: text-unidecode>=1.3 in /usr/local/lib/python3.10/dist-packages (from python-slugify->kaggle) (1.3)\n",
            "Requirement already satisfied: charset-normalizer<4,>=2 in /usr/local/lib/python3.10/dist-packages (from requests->kaggle) (3.3.2)\n",
            "Requirement already satisfied: idna<4,>=2.5 in /usr/local/lib/python3.10/dist-packages (from requests->kaggle) (3.7)\n"
          ]
        }
      ]
    },
    {
      "cell_type": "markdown",
      "source": [
        "# Setup Project\n",
        "Download and setup data and respective artefacts"
      ],
      "metadata": {
        "id": "79ZMWNHfmr_n"
      }
    },
    {
      "cell_type": "code",
      "source": [
        "!kaggle competitions list -s home-data"
      ],
      "metadata": {
        "id": "GIo2QykkjXLW"
      },
      "execution_count": null,
      "outputs": []
    },
    {
      "cell_type": "code",
      "source": [
        "!kaggle competitions download -c home-data-for-ml-course"
      ],
      "metadata": {
        "colab": {
          "base_uri": "https://localhost:8080/"
        },
        "id": "KDchBfXck7V0",
        "outputId": "2a7f58d1-72b3-4073-99c6-5e169ff80509"
      },
      "execution_count": 4,
      "outputs": [
        {
          "output_type": "stream",
          "name": "stdout",
          "text": [
            "Downloading home-data-for-ml-course.zip to /content\n",
            "\r  0% 0.00/386k [00:00<?, ?B/s]\n",
            "\r100% 386k/386k [00:00<00:00, 86.5MB/s]\n"
          ]
        }
      ]
    },
    {
      "cell_type": "code",
      "source": [
        "!ls -lrt ~/.kaggle\n",
        "!ls -lRt /content"
      ],
      "metadata": {
        "colab": {
          "base_uri": "https://localhost:8080/"
        },
        "id": "tzP23ZEzlGHL",
        "outputId": "0b381895-eb93-4cd0-c7e8-14fe77c32459"
      },
      "execution_count": 5,
      "outputs": [
        {
          "output_type": "stream",
          "name": "stdout",
          "text": [
            "total 4\n",
            "-rw------- 1 root root 69 May 22 10:19 kaggle.json\n",
            "/content:\n",
            "total 392\n",
            "drwxr-xr-x 1 root root   4096 May 20 13:25 sample_data\n",
            "-rw-r--r-- 1 root root 395336 Nov 30  2019 home-data-for-ml-course.zip\n",
            "\n",
            "/content/sample_data:\n",
            "total 55504\n",
            "-rw-r--r-- 1 root root 18289443 May 20 13:25 mnist_test.csv\n",
            "-rw-r--r-- 1 root root 36523880 May 20 13:25 mnist_train_small.csv\n",
            "-rw-r--r-- 1 root root   301141 May 20 13:25 california_housing_test.csv\n",
            "-rw-r--r-- 1 root root  1706430 May 20 13:25 california_housing_train.csv\n",
            "-rwxr-xr-x 1 root root     1697 Jan  1  2000 anscombe.json\n",
            "-rwxr-xr-x 1 root root      930 Jan  1  2000 README.md\n"
          ]
        }
      ]
    },
    {
      "cell_type": "markdown",
      "source": [
        "# Analysis\n",
        "You can now start your analysis"
      ],
      "metadata": {
        "id": "i8dwbfAYl5He"
      }
    },
    {
      "cell_type": "code",
      "source": [
        "!unzip /content/home-data-for-ml-course.zip\n",
        "!unzip -l /content/home-data-for-ml-course.zip\n",
        "!ls -lrtR /content"
      ],
      "metadata": {
        "colab": {
          "base_uri": "https://localhost:8080/"
        },
        "id": "1X5iMXAilQUo",
        "outputId": "373eccf1-451f-470e-d00a-e4c7aba4b8d3"
      },
      "execution_count": 6,
      "outputs": [
        {
          "output_type": "stream",
          "name": "stdout",
          "text": [
            "Archive:  /content/home-data-for-ml-course.zip\n",
            "  inflating: data_description.txt    \n",
            "  inflating: sample_submission.csv   \n",
            "  inflating: sample_submission.csv.gz  \n",
            "  inflating: test.csv                \n",
            "  inflating: test.csv.gz             \n",
            "  inflating: train.csv               \n",
            "  inflating: train.csv.gz            \n",
            "Archive:  /content/home-data-for-ml-course.zip\n",
            "  Length      Date    Time    Name\n",
            "---------  ---------- -----   ----\n",
            "    13370  2019-11-30 13:52   data_description.txt\n",
            "    31939  2019-11-30 13:52   sample_submission.csv\n",
            "    15685  2019-11-30 13:52   sample_submission.csv.gz\n",
            "   451405  2019-11-30 13:52   test.csv\n",
            "    83948  2019-11-30 13:52   test.csv.gz\n",
            "   460676  2019-11-30 13:52   train.csv\n",
            "    91387  2019-11-30 13:52   train.csv.gz\n",
            "---------                     -------\n",
            "  1148410                     7 files\n",
            "/content:\n",
            "total 1528\n",
            "-rw-r--r-- 1 root root  91387 Nov 30  2019 train.csv.gz\n",
            "-rw-r--r-- 1 root root 460676 Nov 30  2019 train.csv\n",
            "-rw-r--r-- 1 root root  83948 Nov 30  2019 test.csv.gz\n",
            "-rw-r--r-- 1 root root 451405 Nov 30  2019 test.csv\n",
            "-rw-r--r-- 1 root root  15685 Nov 30  2019 sample_submission.csv.gz\n",
            "-rw-r--r-- 1 root root  31939 Nov 30  2019 sample_submission.csv\n",
            "-rw-r--r-- 1 root root  13370 Nov 30  2019 data_description.txt\n",
            "-rw-r--r-- 1 root root 395336 Nov 30  2019 home-data-for-ml-course.zip\n",
            "drwxr-xr-x 1 root root   4096 May 20 13:25 sample_data\n",
            "\n",
            "/content/sample_data:\n",
            "total 55504\n",
            "-rwxr-xr-x 1 root root      930 Jan  1  2000 README.md\n",
            "-rwxr-xr-x 1 root root     1697 Jan  1  2000 anscombe.json\n",
            "-rw-r--r-- 1 root root  1706430 May 20 13:25 california_housing_train.csv\n",
            "-rw-r--r-- 1 root root   301141 May 20 13:25 california_housing_test.csv\n",
            "-rw-r--r-- 1 root root 36523880 May 20 13:25 mnist_train_small.csv\n",
            "-rw-r--r-- 1 root root 18289443 May 20 13:25 mnist_test.csv\n"
          ]
        }
      ]
    },
    {
      "cell_type": "code",
      "source": [
        "import pandas as pd\n",
        "from sklearn.ensemble import RandomForestRegressor\n",
        "from sklearn.metrics import mean_absolute_error\n",
        "from sklearn.model_selection import train_test_split"
      ],
      "metadata": {
        "id": "uZ_6zBmOnSG7"
      },
      "execution_count": 7,
      "outputs": []
    },
    {
      "cell_type": "code",
      "source": [
        "file_train = \"/content/train.csv\"\n",
        "file_test = \"/content/test.csv\"\n",
        "file_sample_submission = \"/content/sample_submission.csv\"\n",
        "file_data_disc = \"/content/data_description.txt\""
      ],
      "metadata": {
        "id": "FkOEq4YMpJ2V"
      },
      "execution_count": 8,
      "outputs": []
    },
    {
      "cell_type": "code",
      "source": [
        "train_data = pd.read_csv(file_train)\n",
        "test_data = pd.read_csv(file_test)"
      ],
      "metadata": {
        "id": "b64bgdavnadG"
      },
      "execution_count": 9,
      "outputs": []
    },
    {
      "cell_type": "code",
      "source": [
        "# !pip install ydata-profiling\n",
        "# from ydata_profiling import ProfileReport\n",
        "# profile = ProfileReport(train_data, title=\"Profiling Report\")\n",
        "# # profile.to_widgets()\n",
        "# # profile.to_notebook_iframe()\n",
        "# profile.to_file(\"your_report.html\")"
      ],
      "metadata": {
        "collapsed": true,
        "id": "VWWXXFbWc5wP"
      },
      "execution_count": null,
      "outputs": []
    },
    {
      "cell_type": "code",
      "source": [
        "#train_data.dtypes.unique()\n",
        "# train_data.select_dtypes(exclude = object).describe()\n",
        "\n",
        "train_data.Alley.unique()\n",
        "train_data.Alley.describe()\n",
        "train_data.Alley.value_counts()\n",
        "\n",
        "# train_data.Alley.isnull().sum()\n",
        "# train_data.Alley.fillna(\"NAN\").hist()\n",
        "# train_data.Alley.hist()\n",
        "\n",
        "# train_data.dtypes.unique()\n",
        "# features = train_data.select_dtypes(exclude = object).columns.tolist()\n",
        "# train_data.isnull().sum().map(lambda x: print(x))\n",
        "\n",
        "\n",
        "# print(l[:10])\n",
        "# train_data[  > 0 ]\n",
        "\n",
        "features = train_data.select_dtypes(exclude = object).columns.tolist()\n",
        "featuresL = []\n",
        "l = train_data.isnull().sum()\n",
        "for i in l.index:\n",
        "  if l[i] > 0:\n",
        "    print(i, type(i))\n",
        "    featuresL.append( i )\n",
        "\n",
        "\n",
        "print(featuresL)\n",
        "\n",
        "\n",
        "# !pip install ydata-profiling\n",
        "from ydata_profiling import ProfileReport\n",
        "profile = ProfileReport(train_data[featuresL], title=\"Profiling Report\")\n",
        "profile.to_file(\"your_report.html\")\n",
        "\n",
        "# train_data.isnull().sum()[\"Street\"]\n",
        "\n",
        "\n"
      ],
      "metadata": {
        "id": "S3_7ygfC2rWl",
        "collapsed": true
      },
      "execution_count": null,
      "outputs": []
    },
    {
      "cell_type": "code",
      "source": [],
      "metadata": {
        "colab": {
          "base_uri": "https://localhost:8080/"
        },
        "collapsed": true,
        "id": "5Py7S0EP0nGk",
        "outputId": "21c5f908-ac83-4bed-8603-d082f2ea9b91"
      },
      "execution_count": 11,
      "outputs": [
        {
          "output_type": "execute_result",
          "data": {
            "text/plain": [
              "['Id',\n",
              " 'MSSubClass',\n",
              " 'MSZoning',\n",
              " 'LotFrontage',\n",
              " 'LotArea',\n",
              " 'Street',\n",
              " 'Alley',\n",
              " 'LotShape',\n",
              " 'LandContour',\n",
              " 'Utilities',\n",
              " 'LotConfig',\n",
              " 'LandSlope',\n",
              " 'Neighborhood',\n",
              " 'Condition1',\n",
              " 'Condition2',\n",
              " 'BldgType',\n",
              " 'HouseStyle',\n",
              " 'OverallQual',\n",
              " 'OverallCond',\n",
              " 'YearBuilt',\n",
              " 'YearRemodAdd',\n",
              " 'RoofStyle',\n",
              " 'RoofMatl',\n",
              " 'Exterior1st',\n",
              " 'Exterior2nd',\n",
              " 'MasVnrType',\n",
              " 'MasVnrArea',\n",
              " 'ExterQual',\n",
              " 'ExterCond',\n",
              " 'Foundation',\n",
              " 'BsmtQual',\n",
              " 'BsmtCond',\n",
              " 'BsmtExposure',\n",
              " 'BsmtFinType1',\n",
              " 'BsmtFinSF1',\n",
              " 'BsmtFinType2',\n",
              " 'BsmtFinSF2',\n",
              " 'BsmtUnfSF',\n",
              " 'TotalBsmtSF',\n",
              " 'Heating',\n",
              " 'HeatingQC',\n",
              " 'CentralAir',\n",
              " 'Electrical',\n",
              " '1stFlrSF',\n",
              " '2ndFlrSF',\n",
              " 'LowQualFinSF',\n",
              " 'GrLivArea',\n",
              " 'BsmtFullBath',\n",
              " 'BsmtHalfBath',\n",
              " 'FullBath',\n",
              " 'HalfBath',\n",
              " 'BedroomAbvGr',\n",
              " 'KitchenAbvGr',\n",
              " 'KitchenQual',\n",
              " 'TotRmsAbvGrd',\n",
              " 'Functional',\n",
              " 'Fireplaces',\n",
              " 'FireplaceQu',\n",
              " 'GarageType',\n",
              " 'GarageYrBlt',\n",
              " 'GarageFinish',\n",
              " 'GarageCars',\n",
              " 'GarageArea',\n",
              " 'GarageQual',\n",
              " 'GarageCond',\n",
              " 'PavedDrive',\n",
              " 'WoodDeckSF',\n",
              " 'OpenPorchSF',\n",
              " 'EnclosedPorch',\n",
              " '3SsnPorch',\n",
              " 'ScreenPorch',\n",
              " 'PoolArea',\n",
              " 'PoolQC',\n",
              " 'Fence',\n",
              " 'MiscFeature',\n",
              " 'MiscVal',\n",
              " 'MoSold',\n",
              " 'YrSold',\n",
              " 'SaleType',\n",
              " 'SaleCondition',\n",
              " 'SalePrice']"
            ]
          },
          "metadata": {},
          "execution_count": 11
        }
      ]
    },
    {
      "cell_type": "code",
      "source": [
        "features = train_data.columns.to_list()\n",
        "features.remove('SalePrice')\n",
        "for v in features:\n",
        "  # print(v, train_data[v].dtypes)\n",
        "  if train_data[v].dtypes == \"object\":\n",
        "    train_data[v] = train_data[v].fillna(\"NAN\")\n",
        "  else:\n",
        "    train_data[v] = train_data[v].fillna(train_data[v].median())\n",
        "\n",
        "  if test_data[v].dtypes == \"object\":\n",
        "    test_data[v] = test_data[v].fillna(\"NAN\")\n",
        "  else:\n",
        "    test_data[v] = test_data[v].fillna(test_data[v].median())"
      ],
      "metadata": {
        "id": "aXKOUv3QlhIk"
      },
      "execution_count": 15,
      "outputs": []
    },
    {
      "cell_type": "code",
      "source": [
        "# from ydata_profiling import ProfileReport\n",
        "# profile = ProfileReport(train_data[featuresL], title=\"Profiling Report\")\n",
        "# profile.to_file(\"your_report.html\")"
      ],
      "metadata": {
        "id": "fi6qmrcKl-pS"
      },
      "execution_count": null,
      "outputs": []
    },
    {
      "cell_type": "code",
      "source": [
        "# train_data.dtypes.unique()\n",
        "# features = train_data.select_dtypes(exclude = object).columns.tolist()\n",
        "# print( features.index('SalePrice') )\n",
        "# features.remove( 'SalePrice' )\n",
        "# print(features)\n",
        "\n",
        "\n",
        "# Select all non-object columns\n",
        "non_object_cols = train_data.select_dtypes(exclude='object')\n",
        "\n",
        "# Drop columns with null values\n",
        "non_null_cols = non_object_cols.dropna(how='any')\n",
        "\n",
        "# Print the remaining columns\n",
        "# non_null_cols.info()\n",
        "\n",
        "features = non_null_cols.columns.tolist()\n",
        "features.remove( 'SalePrice' )\n",
        "print(features)"
      ],
      "metadata": {
        "id": "XWRQEgGma55q"
      },
      "execution_count": null,
      "outputs": []
    },
    {
      "cell_type": "code",
      "source": [
        "# train_data.head()\n",
        "# train_data.describe()\n",
        "# train_data.columns\n",
        "train_data.info()"
      ],
      "metadata": {
        "collapsed": true,
        "id": "x-D46PeN1xXc"
      },
      "execution_count": null,
      "outputs": []
    },
    {
      "cell_type": "code",
      "source": [
        "# features.remove( 'SalePrice' )\n",
        "# print(features)"
      ],
      "metadata": {
        "id": "nuT8r3EkmpL2"
      },
      "execution_count": null,
      "outputs": []
    },
    {
      "cell_type": "code",
      "source": [
        "from sklearn.ensemble import HistGradientBoostingRegressor\n",
        "\n",
        "featuresL = []\n",
        "for v in features:\n",
        "  if not train_data[v].dtypes == \"object\":\n",
        "    featuresL.append( v )\n",
        "\n",
        "\n",
        "train_X, val_X, train_y, val_y = train_test_split(train_data[featuresL], train_data['SalePrice'], random_state=1)\n",
        "# rf_model = RandomForestRegressor(random_state=1)\n",
        "rf_model = HistGradientBoostingRegressor(random_state=1)\n",
        "rf_model.fit(train_X, train_y)\n",
        "\n",
        "rf_val_predictions = rf_model.predict(val_X)\n",
        "rf_val_mae = mean_absolute_error(val_y, rf_val_predictions)\n",
        "rf_val_mae"
      ],
      "metadata": {
        "id": "ENNdKFW6X9r3",
        "colab": {
          "base_uri": "https://localhost:8080/"
        },
        "outputId": "cdc40f12-10bd-416e-cb74-eefbbb000768"
      },
      "execution_count": 27,
      "outputs": [
        {
          "output_type": "execute_result",
          "data": {
            "text/plain": [
              "15747.305176521093"
            ]
          },
          "metadata": {},
          "execution_count": 27
        }
      ]
    },
    {
      "cell_type": "code",
      "source": [
        "train_X, val_X, train_y, val_y = train_test_split(train_data[featuresL], train_data['SalePrice'], random_state=1)\n",
        "rf_model = RandomForestRegressor(n_estimators=100, random_state=1)\n",
        "\n",
        "\n",
        "# from sklearn.impute import SimpleImputer\n",
        "# imputer = SimpleImputer(strategy=\"median\")\n",
        "# train_X = imputer.fit_transform(train_X)\n",
        "# val_X = imputer.fit_transform(val_X)\n",
        "# test_data_all = imputer.fit_transform(test_data[features])\n",
        "\n",
        "rf_model.fit(train_X, train_y)\n",
        "\n",
        "rf_val_predictions = rf_model.predict(val_X)\n",
        "rf_val_mae = mean_absolute_error(val_y, rf_val_predictions)\n",
        "rf_val_mae"
      ],
      "metadata": {
        "colab": {
          "base_uri": "https://localhost:8080/"
        },
        "id": "zftQHIXiZM6X",
        "outputId": "a5794376-5c43-4b28-ca6e-3283af2c1ecb"
      },
      "execution_count": 28,
      "outputs": [
        {
          "output_type": "execute_result",
          "data": {
            "text/plain": [
              "16925.11978082192"
            ]
          },
          "metadata": {},
          "execution_count": 28
        }
      ]
    },
    {
      "cell_type": "code",
      "source": [
        "rf_val_predictions = rf_model.predict(val_X)\n",
        "rf_val_mae = mean_absolute_error(val_y, rf_val_predictions)"
      ],
      "metadata": {
        "id": "B39b1s-sx_An"
      },
      "execution_count": 24,
      "outputs": []
    },
    {
      "cell_type": "code",
      "source": [
        "# test_validation =  rf_model.predict(test_data[features])\n",
        "# test_validation =  rf_model.predict(test_data_all)\n",
        "test_validation =  rf_model.predict(test_data[featuresL])\n"
      ],
      "metadata": {
        "collapsed": true,
        "id": "m_bGT_fgQjH4"
      },
      "execution_count": 25,
      "outputs": []
    },
    {
      "cell_type": "code",
      "source": [
        "rf_val_mae"
      ],
      "metadata": {
        "id": "l2ALviDeZ3YB",
        "colab": {
          "base_uri": "https://localhost:8080/"
        },
        "outputId": "d8a1362c-fbe6-4a62-aab0-66ff3ffd6cbe"
      },
      "execution_count": 26,
      "outputs": [
        {
          "output_type": "execute_result",
          "data": {
            "text/plain": [
              "16925.11978082192"
            ]
          },
          "metadata": {},
          "execution_count": 26
        }
      ]
    },
    {
      "cell_type": "code",
      "source": [
        "submission = pd.DataFrame({'Id': test_data.Id, 'SalePrice': test_validation})\n",
        "submission.to_csv('submission.csv', index=False)"
      ],
      "metadata": {
        "id": "hxjcuC81RMHk"
      },
      "execution_count": null,
      "outputs": []
    },
    {
      "cell_type": "code",
      "source": [
        "# !kaggle competitions submit home-data-for-ml-course -f submission.csv -m \"First submission through the Google Colab!\""
      ],
      "metadata": {
        "id": "jr8DzrjxRqgY"
      },
      "execution_count": null,
      "outputs": []
    }
  ]
}